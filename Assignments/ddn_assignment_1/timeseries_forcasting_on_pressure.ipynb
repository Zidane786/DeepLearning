{
 "cells": [
  {
   "cell_type": "markdown",
   "id": "470b89b7-2014-4369-b70f-1ff0675950a5",
   "metadata": {},
   "source": [
    "## In this Assignment We are going to perfrom time series forcasting on temperature using the Deep Neural Network on jena_climate_2009_2016 dataset"
   ]
  },
  {
   "cell_type": "markdown",
   "id": "fac6024c-08fb-4b67-9fe3-48ba15d70dfe",
   "metadata": {},
   "source": [
    "#### Importing the required module for our Assignment"
   ]
  },
  {
   "cell_type": "code",
   "execution_count": 1,
   "id": "daed891f-a9fe-4a4f-be0d-655006556cd5",
   "metadata": {},
   "outputs": [],
   "source": [
    "import numpy as np\n",
    "import pandas as pd\n",
    "import tensorflow as tf\n",
    "import matplotlib.pyplot as plt"
   ]
  },
  {
   "cell_type": "code",
   "execution_count": 2,
   "id": "0c897edc-20aa-41ad-88fd-c06c62192558",
   "metadata": {},
   "outputs": [],
   "source": [
    "import os\n",
    "import sys\n",
    "from math import ceil,floor"
   ]
  },
  {
   "cell_type": "code",
   "execution_count": 3,
   "id": "0d06c4ec-ece3-479a-85a3-768c3398132c",
   "metadata": {},
   "outputs": [],
   "source": [
    "from tensorflow.keras.models import Sequential\n",
    "from tensorflow.keras.layers import *\n",
    "from tensorflow.keras.callbacks import ModelCheckpoint\n",
    "from tensorflow.keras.losses import MeanSquaredError\n",
    "from tensorflow.keras.metrics import RootMeanSquaredError\n",
    "from tensorflow.keras.optimizers import Adam,SGD\n",
    "from tensorflow.keras.models import load_model"
   ]
  },
  {
   "cell_type": "markdown",
   "id": "a9202695-a491-41b6-840d-6645b49fc027",
   "metadata": {},
   "source": [
    "#### Loading the Data Set from tf-keras-dataset which is hosted on google cloud storage on which we will perform our timeseries forcasting using DNN"
   ]
  },
  {
   "cell_type": "code",
   "execution_count": 4,
   "id": "c54ca18a-483d-4763-a614-772fe43ed683",
   "metadata": {},
   "outputs": [],
   "source": [
    "zip_path = tf.keras.utils.get_file(\n",
    "    origin='https://storage.googleapis.com/tensorflow/tf-keras-datasets/jena_climate_2009_2016.csv.zip',\n",
    "    fname='jena_climate_2009_2016.csv.zip',\n",
    "    extract=True)"
   ]
  },
  {
   "cell_type": "code",
   "execution_count": 5,
   "id": "f39dbc5c-8d02-4a57-ade5-de9f01867163",
   "metadata": {},
   "outputs": [
    {
     "data": {
      "text/plain": [
       "'C:\\\\Users\\\\zidan\\\\.keras\\\\datasets\\\\jena_climate_2009_2016.csv.zip'"
      ]
     },
     "execution_count": 5,
     "metadata": {},
     "output_type": "execute_result"
    }
   ],
   "source": [
    "zip_path"
   ]
  },
  {
   "cell_type": "code",
   "execution_count": 6,
   "id": "8bfb0381-bf32-4ece-9cd2-4fdfc80ad390",
   "metadata": {},
   "outputs": [],
   "source": [
    "csv_path, _ = os.path.splitext(zip_path)"
   ]
  },
  {
   "cell_type": "code",
   "execution_count": 7,
   "id": "870cc0f1-dccd-4ddb-b88a-a901075eb75a",
   "metadata": {},
   "outputs": [],
   "source": [
    "df = pd.read_csv(csv_path)"
   ]
  },
  {
   "cell_type": "code",
   "execution_count": 8,
   "id": "8dbdd292-f678-479b-880a-fec2a73957a0",
   "metadata": {},
   "outputs": [
    {
     "data": {
      "text/plain": [
       "420551"
      ]
     },
     "execution_count": 8,
     "metadata": {},
     "output_type": "execute_result"
    }
   ],
   "source": [
    "len(df)"
   ]
  },
  {
   "cell_type": "code",
   "execution_count": 9,
   "id": "a5a33593-5d35-47d0-aea8-b54315df6b93",
   "metadata": {},
   "outputs": [
    {
     "data": {
      "text/html": [
       "<div>\n",
       "<style scoped>\n",
       "    .dataframe tbody tr th:only-of-type {\n",
       "        vertical-align: middle;\n",
       "    }\n",
       "\n",
       "    .dataframe tbody tr th {\n",
       "        vertical-align: top;\n",
       "    }\n",
       "\n",
       "    .dataframe thead th {\n",
       "        text-align: right;\n",
       "    }\n",
       "</style>\n",
       "<table border=\"1\" class=\"dataframe\">\n",
       "  <thead>\n",
       "    <tr style=\"text-align: right;\">\n",
       "      <th></th>\n",
       "      <th>Date Time</th>\n",
       "      <th>p (mbar)</th>\n",
       "      <th>T (degC)</th>\n",
       "      <th>Tpot (K)</th>\n",
       "      <th>Tdew (degC)</th>\n",
       "      <th>rh (%)</th>\n",
       "      <th>VPmax (mbar)</th>\n",
       "      <th>VPact (mbar)</th>\n",
       "      <th>VPdef (mbar)</th>\n",
       "      <th>sh (g/kg)</th>\n",
       "      <th>H2OC (mmol/mol)</th>\n",
       "      <th>rho (g/m**3)</th>\n",
       "      <th>wv (m/s)</th>\n",
       "      <th>max. wv (m/s)</th>\n",
       "      <th>wd (deg)</th>\n",
       "    </tr>\n",
       "  </thead>\n",
       "  <tbody>\n",
       "    <tr>\n",
       "      <th>0</th>\n",
       "      <td>01.01.2009 00:10:00</td>\n",
       "      <td>996.52</td>\n",
       "      <td>-8.02</td>\n",
       "      <td>265.40</td>\n",
       "      <td>-8.90</td>\n",
       "      <td>93.3</td>\n",
       "      <td>3.33</td>\n",
       "      <td>3.11</td>\n",
       "      <td>0.22</td>\n",
       "      <td>1.94</td>\n",
       "      <td>3.12</td>\n",
       "      <td>1307.75</td>\n",
       "      <td>1.03</td>\n",
       "      <td>1.75</td>\n",
       "      <td>152.3</td>\n",
       "    </tr>\n",
       "    <tr>\n",
       "      <th>1</th>\n",
       "      <td>01.01.2009 00:20:00</td>\n",
       "      <td>996.57</td>\n",
       "      <td>-8.41</td>\n",
       "      <td>265.01</td>\n",
       "      <td>-9.28</td>\n",
       "      <td>93.4</td>\n",
       "      <td>3.23</td>\n",
       "      <td>3.02</td>\n",
       "      <td>0.21</td>\n",
       "      <td>1.89</td>\n",
       "      <td>3.03</td>\n",
       "      <td>1309.80</td>\n",
       "      <td>0.72</td>\n",
       "      <td>1.50</td>\n",
       "      <td>136.1</td>\n",
       "    </tr>\n",
       "    <tr>\n",
       "      <th>2</th>\n",
       "      <td>01.01.2009 00:30:00</td>\n",
       "      <td>996.53</td>\n",
       "      <td>-8.51</td>\n",
       "      <td>264.91</td>\n",
       "      <td>-9.31</td>\n",
       "      <td>93.9</td>\n",
       "      <td>3.21</td>\n",
       "      <td>3.01</td>\n",
       "      <td>0.20</td>\n",
       "      <td>1.88</td>\n",
       "      <td>3.02</td>\n",
       "      <td>1310.24</td>\n",
       "      <td>0.19</td>\n",
       "      <td>0.63</td>\n",
       "      <td>171.6</td>\n",
       "    </tr>\n",
       "    <tr>\n",
       "      <th>3</th>\n",
       "      <td>01.01.2009 00:40:00</td>\n",
       "      <td>996.51</td>\n",
       "      <td>-8.31</td>\n",
       "      <td>265.12</td>\n",
       "      <td>-9.07</td>\n",
       "      <td>94.2</td>\n",
       "      <td>3.26</td>\n",
       "      <td>3.07</td>\n",
       "      <td>0.19</td>\n",
       "      <td>1.92</td>\n",
       "      <td>3.08</td>\n",
       "      <td>1309.19</td>\n",
       "      <td>0.34</td>\n",
       "      <td>0.50</td>\n",
       "      <td>198.0</td>\n",
       "    </tr>\n",
       "    <tr>\n",
       "      <th>4</th>\n",
       "      <td>01.01.2009 00:50:00</td>\n",
       "      <td>996.51</td>\n",
       "      <td>-8.27</td>\n",
       "      <td>265.15</td>\n",
       "      <td>-9.04</td>\n",
       "      <td>94.1</td>\n",
       "      <td>3.27</td>\n",
       "      <td>3.08</td>\n",
       "      <td>0.19</td>\n",
       "      <td>1.92</td>\n",
       "      <td>3.09</td>\n",
       "      <td>1309.00</td>\n",
       "      <td>0.32</td>\n",
       "      <td>0.63</td>\n",
       "      <td>214.3</td>\n",
       "    </tr>\n",
       "  </tbody>\n",
       "</table>\n",
       "</div>"
      ],
      "text/plain": [
       "             Date Time  p (mbar)  T (degC)  Tpot (K)  Tdew (degC)  rh (%)  \\\n",
       "0  01.01.2009 00:10:00    996.52     -8.02    265.40        -8.90    93.3   \n",
       "1  01.01.2009 00:20:00    996.57     -8.41    265.01        -9.28    93.4   \n",
       "2  01.01.2009 00:30:00    996.53     -8.51    264.91        -9.31    93.9   \n",
       "3  01.01.2009 00:40:00    996.51     -8.31    265.12        -9.07    94.2   \n",
       "4  01.01.2009 00:50:00    996.51     -8.27    265.15        -9.04    94.1   \n",
       "\n",
       "   VPmax (mbar)  VPact (mbar)  VPdef (mbar)  sh (g/kg)  H2OC (mmol/mol)  \\\n",
       "0          3.33          3.11          0.22       1.94             3.12   \n",
       "1          3.23          3.02          0.21       1.89             3.03   \n",
       "2          3.21          3.01          0.20       1.88             3.02   \n",
       "3          3.26          3.07          0.19       1.92             3.08   \n",
       "4          3.27          3.08          0.19       1.92             3.09   \n",
       "\n",
       "   rho (g/m**3)  wv (m/s)  max. wv (m/s)  wd (deg)  \n",
       "0       1307.75      1.03           1.75     152.3  \n",
       "1       1309.80      0.72           1.50     136.1  \n",
       "2       1310.24      0.19           0.63     171.6  \n",
       "3       1309.19      0.34           0.50     198.0  \n",
       "4       1309.00      0.32           0.63     214.3  "
      ]
     },
     "execution_count": 9,
     "metadata": {},
     "output_type": "execute_result"
    }
   ],
   "source": [
    "df.head()"
   ]
  },
  {
   "cell_type": "code",
   "execution_count": 10,
   "id": "77792ea0-99aa-41a5-9b11-336511f98c2d",
   "metadata": {},
   "outputs": [
    {
     "name": "stdout",
     "output_type": "stream",
     "text": [
      "<class 'pandas.core.frame.DataFrame'>\n",
      "RangeIndex: 420551 entries, 0 to 420550\n",
      "Data columns (total 15 columns):\n",
      " #   Column           Non-Null Count   Dtype  \n",
      "---  ------           --------------   -----  \n",
      " 0   Date Time        420551 non-null  object \n",
      " 1   p (mbar)         420551 non-null  float64\n",
      " 2   T (degC)         420551 non-null  float64\n",
      " 3   Tpot (K)         420551 non-null  float64\n",
      " 4   Tdew (degC)      420551 non-null  float64\n",
      " 5   rh (%)           420551 non-null  float64\n",
      " 6   VPmax (mbar)     420551 non-null  float64\n",
      " 7   VPact (mbar)     420551 non-null  float64\n",
      " 8   VPdef (mbar)     420551 non-null  float64\n",
      " 9   sh (g/kg)        420551 non-null  float64\n",
      " 10  H2OC (mmol/mol)  420551 non-null  float64\n",
      " 11  rho (g/m**3)     420551 non-null  float64\n",
      " 12  wv (m/s)         420551 non-null  float64\n",
      " 13  max. wv (m/s)    420551 non-null  float64\n",
      " 14  wd (deg)         420551 non-null  float64\n",
      "dtypes: float64(14), object(1)\n",
      "memory usage: 48.1+ MB\n"
     ]
    }
   ],
   "source": [
    "df.info()"
   ]
  },
  {
   "cell_type": "markdown",
   "id": "71adf9c7-f511-4308-9c9b-b6a34d9e0e43",
   "metadata": {},
   "source": [
    "##### Our timeseries dataset is of 10 min interval but we want to do our analysis on hourly interval. So we will fetch hourly interval values from our dataframe "
   ]
  },
  {
   "cell_type": "code",
   "execution_count": 11,
   "id": "9cda77a8-1043-40a4-ab10-d265f73aff3b",
   "metadata": {},
   "outputs": [],
   "source": [
    "# making the data hourly\n",
    "df = df[5::6] # 5th index has 1st hour reading so starting from there then every 6th index will be the next hour reading therefore setting step_size=6"
   ]
  },
  {
   "cell_type": "code",
   "execution_count": 12,
   "id": "ea0d5fbb-9c8d-49ac-94da-c6ee3a163259",
   "metadata": {},
   "outputs": [
    {
     "data": {
      "text/html": [
       "<div>\n",
       "<style scoped>\n",
       "    .dataframe tbody tr th:only-of-type {\n",
       "        vertical-align: middle;\n",
       "    }\n",
       "\n",
       "    .dataframe tbody tr th {\n",
       "        vertical-align: top;\n",
       "    }\n",
       "\n",
       "    .dataframe thead th {\n",
       "        text-align: right;\n",
       "    }\n",
       "</style>\n",
       "<table border=\"1\" class=\"dataframe\">\n",
       "  <thead>\n",
       "    <tr style=\"text-align: right;\">\n",
       "      <th></th>\n",
       "      <th>Date Time</th>\n",
       "      <th>p (mbar)</th>\n",
       "      <th>T (degC)</th>\n",
       "      <th>Tpot (K)</th>\n",
       "      <th>Tdew (degC)</th>\n",
       "      <th>rh (%)</th>\n",
       "      <th>VPmax (mbar)</th>\n",
       "      <th>VPact (mbar)</th>\n",
       "      <th>VPdef (mbar)</th>\n",
       "      <th>sh (g/kg)</th>\n",
       "      <th>H2OC (mmol/mol)</th>\n",
       "      <th>rho (g/m**3)</th>\n",
       "      <th>wv (m/s)</th>\n",
       "      <th>max. wv (m/s)</th>\n",
       "      <th>wd (deg)</th>\n",
       "    </tr>\n",
       "  </thead>\n",
       "  <tbody>\n",
       "    <tr>\n",
       "      <th>5</th>\n",
       "      <td>01.01.2009 01:00:00</td>\n",
       "      <td>996.50</td>\n",
       "      <td>-8.05</td>\n",
       "      <td>265.38</td>\n",
       "      <td>-8.78</td>\n",
       "      <td>94.4</td>\n",
       "      <td>3.33</td>\n",
       "      <td>3.14</td>\n",
       "      <td>0.19</td>\n",
       "      <td>1.96</td>\n",
       "      <td>3.15</td>\n",
       "      <td>1307.86</td>\n",
       "      <td>0.21</td>\n",
       "      <td>0.63</td>\n",
       "      <td>192.7</td>\n",
       "    </tr>\n",
       "    <tr>\n",
       "      <th>11</th>\n",
       "      <td>01.01.2009 02:00:00</td>\n",
       "      <td>996.62</td>\n",
       "      <td>-8.88</td>\n",
       "      <td>264.54</td>\n",
       "      <td>-9.77</td>\n",
       "      <td>93.2</td>\n",
       "      <td>3.12</td>\n",
       "      <td>2.90</td>\n",
       "      <td>0.21</td>\n",
       "      <td>1.81</td>\n",
       "      <td>2.91</td>\n",
       "      <td>1312.25</td>\n",
       "      <td>0.25</td>\n",
       "      <td>0.63</td>\n",
       "      <td>190.3</td>\n",
       "    </tr>\n",
       "    <tr>\n",
       "      <th>17</th>\n",
       "      <td>01.01.2009 03:00:00</td>\n",
       "      <td>996.84</td>\n",
       "      <td>-8.81</td>\n",
       "      <td>264.59</td>\n",
       "      <td>-9.66</td>\n",
       "      <td>93.5</td>\n",
       "      <td>3.13</td>\n",
       "      <td>2.93</td>\n",
       "      <td>0.20</td>\n",
       "      <td>1.83</td>\n",
       "      <td>2.94</td>\n",
       "      <td>1312.18</td>\n",
       "      <td>0.18</td>\n",
       "      <td>0.63</td>\n",
       "      <td>167.2</td>\n",
       "    </tr>\n",
       "    <tr>\n",
       "      <th>23</th>\n",
       "      <td>01.01.2009 04:00:00</td>\n",
       "      <td>996.99</td>\n",
       "      <td>-9.05</td>\n",
       "      <td>264.34</td>\n",
       "      <td>-10.02</td>\n",
       "      <td>92.6</td>\n",
       "      <td>3.07</td>\n",
       "      <td>2.85</td>\n",
       "      <td>0.23</td>\n",
       "      <td>1.78</td>\n",
       "      <td>2.85</td>\n",
       "      <td>1313.61</td>\n",
       "      <td>0.10</td>\n",
       "      <td>0.38</td>\n",
       "      <td>240.0</td>\n",
       "    </tr>\n",
       "    <tr>\n",
       "      <th>29</th>\n",
       "      <td>01.01.2009 05:00:00</td>\n",
       "      <td>997.46</td>\n",
       "      <td>-9.63</td>\n",
       "      <td>263.72</td>\n",
       "      <td>-10.65</td>\n",
       "      <td>92.2</td>\n",
       "      <td>2.94</td>\n",
       "      <td>2.71</td>\n",
       "      <td>0.23</td>\n",
       "      <td>1.69</td>\n",
       "      <td>2.71</td>\n",
       "      <td>1317.19</td>\n",
       "      <td>0.40</td>\n",
       "      <td>0.88</td>\n",
       "      <td>157.0</td>\n",
       "    </tr>\n",
       "  </tbody>\n",
       "</table>\n",
       "</div>"
      ],
      "text/plain": [
       "              Date Time  p (mbar)  T (degC)  Tpot (K)  Tdew (degC)  rh (%)  \\\n",
       "5   01.01.2009 01:00:00    996.50     -8.05    265.38        -8.78    94.4   \n",
       "11  01.01.2009 02:00:00    996.62     -8.88    264.54        -9.77    93.2   \n",
       "17  01.01.2009 03:00:00    996.84     -8.81    264.59        -9.66    93.5   \n",
       "23  01.01.2009 04:00:00    996.99     -9.05    264.34       -10.02    92.6   \n",
       "29  01.01.2009 05:00:00    997.46     -9.63    263.72       -10.65    92.2   \n",
       "\n",
       "    VPmax (mbar)  VPact (mbar)  VPdef (mbar)  sh (g/kg)  H2OC (mmol/mol)  \\\n",
       "5           3.33          3.14          0.19       1.96             3.15   \n",
       "11          3.12          2.90          0.21       1.81             2.91   \n",
       "17          3.13          2.93          0.20       1.83             2.94   \n",
       "23          3.07          2.85          0.23       1.78             2.85   \n",
       "29          2.94          2.71          0.23       1.69             2.71   \n",
       "\n",
       "    rho (g/m**3)  wv (m/s)  max. wv (m/s)  wd (deg)  \n",
       "5        1307.86      0.21           0.63     192.7  \n",
       "11       1312.25      0.25           0.63     190.3  \n",
       "17       1312.18      0.18           0.63     167.2  \n",
       "23       1313.61      0.10           0.38     240.0  \n",
       "29       1317.19      0.40           0.88     157.0  "
      ]
     },
     "execution_count": 12,
     "metadata": {},
     "output_type": "execute_result"
    }
   ],
   "source": [
    "df.head()"
   ]
  },
  {
   "cell_type": "code",
   "execution_count": 13,
   "id": "987a62c5-9b03-4fa2-bb9e-a988f25eda84",
   "metadata": {},
   "outputs": [
    {
     "data": {
      "text/plain": [
       "70091"
      ]
     },
     "execution_count": 13,
     "metadata": {},
     "output_type": "execute_result"
    }
   ],
   "source": [
    "len(df) # size of our dataset decreased from 420551 to 70091"
   ]
  },
  {
   "cell_type": "markdown",
   "id": "a2f9dbfe-fc23-440d-9ad9-2fd62177bdd9",
   "metadata": {},
   "source": [
    "##### setting Date Time column as index and Dropping it as a column"
   ]
  },
  {
   "cell_type": "code",
   "execution_count": 14,
   "id": "bb979359-c622-49d5-9076-15444994b33f",
   "metadata": {},
   "outputs": [
    {
     "data": {
      "text/html": [
       "<div>\n",
       "<style scoped>\n",
       "    .dataframe tbody tr th:only-of-type {\n",
       "        vertical-align: middle;\n",
       "    }\n",
       "\n",
       "    .dataframe tbody tr th {\n",
       "        vertical-align: top;\n",
       "    }\n",
       "\n",
       "    .dataframe thead th {\n",
       "        text-align: right;\n",
       "    }\n",
       "</style>\n",
       "<table border=\"1\" class=\"dataframe\">\n",
       "  <thead>\n",
       "    <tr style=\"text-align: right;\">\n",
       "      <th></th>\n",
       "      <th>p (mbar)</th>\n",
       "      <th>T (degC)</th>\n",
       "      <th>Tpot (K)</th>\n",
       "      <th>Tdew (degC)</th>\n",
       "      <th>rh (%)</th>\n",
       "      <th>VPmax (mbar)</th>\n",
       "      <th>VPact (mbar)</th>\n",
       "      <th>VPdef (mbar)</th>\n",
       "      <th>sh (g/kg)</th>\n",
       "      <th>H2OC (mmol/mol)</th>\n",
       "      <th>rho (g/m**3)</th>\n",
       "      <th>wv (m/s)</th>\n",
       "      <th>max. wv (m/s)</th>\n",
       "      <th>wd (deg)</th>\n",
       "    </tr>\n",
       "    <tr>\n",
       "      <th>Date Time</th>\n",
       "      <th></th>\n",
       "      <th></th>\n",
       "      <th></th>\n",
       "      <th></th>\n",
       "      <th></th>\n",
       "      <th></th>\n",
       "      <th></th>\n",
       "      <th></th>\n",
       "      <th></th>\n",
       "      <th></th>\n",
       "      <th></th>\n",
       "      <th></th>\n",
       "      <th></th>\n",
       "      <th></th>\n",
       "    </tr>\n",
       "  </thead>\n",
       "  <tbody>\n",
       "    <tr>\n",
       "      <th>2009-01-01 01:00:00</th>\n",
       "      <td>996.50</td>\n",
       "      <td>-8.05</td>\n",
       "      <td>265.38</td>\n",
       "      <td>-8.78</td>\n",
       "      <td>94.4</td>\n",
       "      <td>3.33</td>\n",
       "      <td>3.14</td>\n",
       "      <td>0.19</td>\n",
       "      <td>1.96</td>\n",
       "      <td>3.15</td>\n",
       "      <td>1307.86</td>\n",
       "      <td>0.21</td>\n",
       "      <td>0.63</td>\n",
       "      <td>192.7</td>\n",
       "    </tr>\n",
       "    <tr>\n",
       "      <th>2009-01-01 02:00:00</th>\n",
       "      <td>996.62</td>\n",
       "      <td>-8.88</td>\n",
       "      <td>264.54</td>\n",
       "      <td>-9.77</td>\n",
       "      <td>93.2</td>\n",
       "      <td>3.12</td>\n",
       "      <td>2.90</td>\n",
       "      <td>0.21</td>\n",
       "      <td>1.81</td>\n",
       "      <td>2.91</td>\n",
       "      <td>1312.25</td>\n",
       "      <td>0.25</td>\n",
       "      <td>0.63</td>\n",
       "      <td>190.3</td>\n",
       "    </tr>\n",
       "    <tr>\n",
       "      <th>2009-01-01 03:00:00</th>\n",
       "      <td>996.84</td>\n",
       "      <td>-8.81</td>\n",
       "      <td>264.59</td>\n",
       "      <td>-9.66</td>\n",
       "      <td>93.5</td>\n",
       "      <td>3.13</td>\n",
       "      <td>2.93</td>\n",
       "      <td>0.20</td>\n",
       "      <td>1.83</td>\n",
       "      <td>2.94</td>\n",
       "      <td>1312.18</td>\n",
       "      <td>0.18</td>\n",
       "      <td>0.63</td>\n",
       "      <td>167.2</td>\n",
       "    </tr>\n",
       "    <tr>\n",
       "      <th>2009-01-01 04:00:00</th>\n",
       "      <td>996.99</td>\n",
       "      <td>-9.05</td>\n",
       "      <td>264.34</td>\n",
       "      <td>-10.02</td>\n",
       "      <td>92.6</td>\n",
       "      <td>3.07</td>\n",
       "      <td>2.85</td>\n",
       "      <td>0.23</td>\n",
       "      <td>1.78</td>\n",
       "      <td>2.85</td>\n",
       "      <td>1313.61</td>\n",
       "      <td>0.10</td>\n",
       "      <td>0.38</td>\n",
       "      <td>240.0</td>\n",
       "    </tr>\n",
       "    <tr>\n",
       "      <th>2009-01-01 05:00:00</th>\n",
       "      <td>997.46</td>\n",
       "      <td>-9.63</td>\n",
       "      <td>263.72</td>\n",
       "      <td>-10.65</td>\n",
       "      <td>92.2</td>\n",
       "      <td>2.94</td>\n",
       "      <td>2.71</td>\n",
       "      <td>0.23</td>\n",
       "      <td>1.69</td>\n",
       "      <td>2.71</td>\n",
       "      <td>1317.19</td>\n",
       "      <td>0.40</td>\n",
       "      <td>0.88</td>\n",
       "      <td>157.0</td>\n",
       "    </tr>\n",
       "  </tbody>\n",
       "</table>\n",
       "</div>"
      ],
      "text/plain": [
       "                     p (mbar)  T (degC)  Tpot (K)  Tdew (degC)  rh (%)  \\\n",
       "Date Time                                                                \n",
       "2009-01-01 01:00:00    996.50     -8.05    265.38        -8.78    94.4   \n",
       "2009-01-01 02:00:00    996.62     -8.88    264.54        -9.77    93.2   \n",
       "2009-01-01 03:00:00    996.84     -8.81    264.59        -9.66    93.5   \n",
       "2009-01-01 04:00:00    996.99     -9.05    264.34       -10.02    92.6   \n",
       "2009-01-01 05:00:00    997.46     -9.63    263.72       -10.65    92.2   \n",
       "\n",
       "                     VPmax (mbar)  VPact (mbar)  VPdef (mbar)  sh (g/kg)  \\\n",
       "Date Time                                                                  \n",
       "2009-01-01 01:00:00          3.33          3.14          0.19       1.96   \n",
       "2009-01-01 02:00:00          3.12          2.90          0.21       1.81   \n",
       "2009-01-01 03:00:00          3.13          2.93          0.20       1.83   \n",
       "2009-01-01 04:00:00          3.07          2.85          0.23       1.78   \n",
       "2009-01-01 05:00:00          2.94          2.71          0.23       1.69   \n",
       "\n",
       "                     H2OC (mmol/mol)  rho (g/m**3)  wv (m/s)  max. wv (m/s)  \\\n",
       "Date Time                                                                     \n",
       "2009-01-01 01:00:00             3.15       1307.86      0.21           0.63   \n",
       "2009-01-01 02:00:00             2.91       1312.25      0.25           0.63   \n",
       "2009-01-01 03:00:00             2.94       1312.18      0.18           0.63   \n",
       "2009-01-01 04:00:00             2.85       1313.61      0.10           0.38   \n",
       "2009-01-01 05:00:00             2.71       1317.19      0.40           0.88   \n",
       "\n",
       "                     wd (deg)  \n",
       "Date Time                      \n",
       "2009-01-01 01:00:00     192.7  \n",
       "2009-01-01 02:00:00     190.3  \n",
       "2009-01-01 03:00:00     167.2  \n",
       "2009-01-01 04:00:00     240.0  \n",
       "2009-01-01 05:00:00     157.0  "
      ]
     },
     "execution_count": 14,
     "metadata": {},
     "output_type": "execute_result"
    }
   ],
   "source": [
    "df.index = pd.to_datetime(df['Date Time'], format='%d.%m.%Y %H:%M:%S')\n",
    "df.drop('Date Time',axis=1,inplace=True)\n",
    "df.head()"
   ]
  },
  {
   "cell_type": "markdown",
   "id": "71fdea78-86bf-47b7-889b-4d43b94a6a05",
   "metadata": {},
   "source": [
    "##### We will only do our time series forcating on Temperature column"
   ]
  },
  {
   "cell_type": "code",
   "execution_count": 15,
   "id": "d7cfcdaa-307b-489b-bf00-2d38e10e6a77",
   "metadata": {},
   "outputs": [
    {
     "data": {
      "text/plain": [
       "<Axes: xlabel='Date Time'>"
      ]
     },
     "execution_count": 15,
     "metadata": {},
     "output_type": "execute_result"
    },
    {
     "data": {
      "image/png": "[encoded data removed]",
      "text/plain": [
       "<Figure size 640x480 with 1 Axes>"
      ]
     },
     "metadata": {},
     "output_type": "display_data"
    }
   ],
   "source": [
    "temp = df['p (mbar)']\n",
    "temp.plot()"
   ]
  },
  {
   "cell_type": "code",
   "execution_count": 16,
   "id": "1aa65a2f-8c98-4797-91bf-573627c47396",
   "metadata": {},
   "outputs": [],
   "source": [
    "temp_arr = temp.to_numpy()"
   ]
  },
  {
   "cell_type": "markdown",
   "id": "c69e234f-3038-421b-9831-c9784688f2e6",
   "metadata": {},
   "source": [
    "##### Lets create Features and Label. We will use previous a window of size 'n' Which basically say how much values we need to look back to predict next value"
   ]
  },
  {
   "cell_type": "code",
   "execution_count": 17,
   "id": "1c771f7f-4595-4165-84b5-54c4fac03efc",
   "metadata": {},
   "outputs": [],
   "source": [
    "from typing import Tuple "
   ]
  },
  {
   "cell_type": "code",
   "execution_count": 18,
   "id": "08011998-eee8-496c-9f4f-2ddecda9affe",
   "metadata": {},
   "outputs": [],
   "source": [
    "def df_to_X_y(arr: [np.ndarray,pd.core.series.Series], window_size: int=5) -> Tuple[np.ndarray,np.ndarray]: \n",
    "    \"\"\"Gets and transform the data into features and label based on window_size\n",
    "    \n",
    "    Args:\n",
    "        arr (np.ndarray,pd.core.series.Series): data to be transformed into features and labels\n",
    "        window_size (int): window_size say how much previous value to be dependent on for target \n",
    "            (default is 5)\n",
    "    \n",
    "    Returns:\n",
    "        tupe: a tuple of features and label\n",
    "    \"\"\"\n",
    "    if isinstance(arr,pd.core.series.Series):\n",
    "        arr = arr.to_numpy()\n",
    "    if not isinstance(arr,np.ndarray):\n",
    "        raise TypeError(f'The input data need to be of Type {np.ndarray} or {pd.core.series.Series}')\n",
    "    X = []\n",
    "    y = []\n",
    "    for i in range(len(arr)-window_size):\n",
    "        #row = [[a] for a in df_as_np[i:i+window_size]]\n",
    "        X.append(arr[i:i+window_size])\n",
    "        label = arr[i+window_size]\n",
    "        y.append(label)\n",
    "    return np.array(X), np.array(y)"
   ]
  },
  {
   "cell_type": "markdown",
   "id": "283f07a2-57f4-411b-9f50-2bbf2a6c9317",
   "metadata": {},
   "source": [
    "### WINDOW SIZE = 5"
   ]
  },
  {
   "cell_type": "code",
   "execution_count": 19,
   "id": "5ed24dc1-815b-41b3-abad-8710b22b63a9",
   "metadata": {},
   "outputs": [
    {
     "data": {
      "text/plain": [
       "((70086, 5), (70086,))"
      ]
     },
     "execution_count": 19,
     "metadata": {},
     "output_type": "execute_result"
    }
   ],
   "source": [
    "WINDOW_SIZE = 5\n",
    "X1_raw, y1_raw = df_to_X_y(temp_arr, WINDOW_SIZE)\n",
    "X1_raw.shape, y1_raw.shape"
   ]
  },
  {
   "cell_type": "markdown",
   "id": "eb75b128-eb3d-4203-a07b-c5581321ed08",
   "metadata": {},
   "source": [
    "##### Splitting our dataset into Train,Test and Validation split"
   ]
  },
  {
   "cell_type": "code",
   "execution_count": 20,
   "id": "9169bdf8-1deb-49a7-a936-eaf2a8591eb2",
   "metadata": {},
   "outputs": [
    {
     "data": {
      "text/plain": [
       "((60000, 5), (60000,), (5000, 5), (5000,), (5086, 5), (5086,))"
      ]
     },
     "execution_count": 20,
     "metadata": {},
     "output_type": "execute_result"
    }
   ],
   "source": [
    "X_train1_raw, y_train1_raw = X1_raw[:60000], y1_raw[:60000]\n",
    "X_val1_raw, y_val1_raw = X1_raw[60000:65000], y1_raw[60000:65000]\n",
    "X_test1_raw, y_test1_raw = X1_raw[65000:], y1_raw[65000:]\n",
    "X_train1_raw.shape, y_train1_raw.shape, X_val1_raw.shape, y_val1_raw.shape, X_test1_raw.shape, y_test1_raw.shape"
   ]
  },
  {
   "cell_type": "code",
   "execution_count": 21,
   "id": "0b865a77-6a10-448f-ba0d-d6ae3f5496a1",
   "metadata": {
    "scrolled": true
   },
   "outputs": [
    {
     "data": {
      "text/plain": [
       "array([[996.5 , 996.62, 996.84, 996.99, 997.46],\n",
       "       [996.62, 996.84, 996.99, 997.46, 997.71],\n",
       "       [996.84, 996.99, 997.46, 997.71, 998.33],\n",
       "       ...,\n",
       "       [994.62, 995.04, 994.91, 994.77, 994.54],\n",
       "       [995.04, 994.91, 994.77, 994.54, 994.35],\n",
       "       [994.91, 994.77, 994.54, 994.35, 994.04]])"
      ]
     },
     "execution_count": 21,
     "metadata": {},
     "output_type": "execute_result"
    }
   ],
   "source": [
    "X_train1_raw"
   ]
  },
  {
   "cell_type": "markdown",
   "id": "aa1dbefd-0c7c-4f22-b12b-693dc7496ef4",
   "metadata": {},
   "source": [
    "##### Creating our Deep neural network model"
   ]
  },
  {
   "cell_type": "code",
   "execution_count": 22,
   "id": "ab900d0c-9863-4fd6-b34b-3dcd3369f2e3",
   "metadata": {},
   "outputs": [],
   "source": [
    "tf.random.set_seed(42)"
   ]
  },
  {
   "cell_type": "code",
   "execution_count": 23,
   "id": "461dbc56-a3e0-40e4-a4f3-bae941e6b545",
   "metadata": {},
   "outputs": [],
   "source": [
    "model1_raw = Sequential() # we will be using tenserflow sequential API for modelling"
   ]
  },
  {
   "cell_type": "code",
   "execution_count": 24,
   "id": "6fa5e63c-cf4d-46b3-8f8d-ed27aa68d73e",
   "metadata": {},
   "outputs": [],
   "source": [
    "model1_raw.add(tf.keras.Input(WINDOW_SIZE,1))  # Adding InputLayer for defining input size of our data."
   ]
  },
  {
   "cell_type": "code",
   "execution_count": 25,
   "id": "e4846093-e99d-4e32-86f9-d601c37c5427",
   "metadata": {},
   "outputs": [],
   "source": [
    "# Adding Dense Layer where unit/neuron are window_size*10 and activation function is relu for non-linearity\n",
    "model1_raw.add(Dense(WINDOW_SIZE*10,activation='relu')) \n",
    "# model1_raw.add(Dropout(0.2))"
   ]
  },
  {
   "cell_type": "code",
   "execution_count": 26,
   "id": "1c2051a2-ad84-47ad-8266-afb6d2d0fb4b",
   "metadata": {},
   "outputs": [],
   "source": [
    "# Adding Dense Layer where unit/neuron are window_size*6 and activation function is relu for non-linearity\n",
    "model1_raw.add(Dense(WINDOW_SIZE*6,activation='relu'))\n",
    "# model1_raw.add(Dropout(0.2))"
   ]
  },
  {
   "cell_type": "code",
   "execution_count": 27,
   "id": "e44702ec-ec92-44ae-a359-4b093e22dc42",
   "metadata": {},
   "outputs": [],
   "source": [
    "# Adding Dense Layer where unit/neuron are window_size*3 and activation function is relu for non-linearity\n",
    "model1_raw.add(Dense(WINDOW_SIZE*3,activation='relu'))\n",
    "# model1_raw.add(Dropout(0.05))"
   ]
  },
  {
   "cell_type": "code",
   "execution_count": 28,
   "id": "fe62f224-bc5b-4ecb-a6c9-817de556d860",
   "metadata": {},
   "outputs": [],
   "source": [
    "# Adding Dense Layer where unit/neuron are window_size and activation function is relu for non-linearity\n",
    "model1_raw.add(Dense(WINDOW_SIZE,activation='relu'))\n",
    "# model1_raw.add(Dropout(0.2))"
   ]
  },
  {
   "cell_type": "code",
   "execution_count": 29,
   "id": "6c99c296-314a-4507-8f09-cc5da75a11b7",
   "metadata": {},
   "outputs": [],
   "source": [
    "# Adding Dense Layer where unit/neuron are 1 which is basically our output layer and activation function is linear because we want our target to be continuous\n",
    "model1_raw.add(Dense(1,activation='linear'))"
   ]
  },
  {
   "cell_type": "code",
   "execution_count": 30,
   "id": "469422b9-b276-4dec-b430-04b9bee01427",
   "metadata": {},
   "outputs": [
    {
     "name": "stdout",
     "output_type": "stream",
     "text": [
      "Model: \"sequential\"\n",
      "_________________________________________________________________\n",
      " Layer (type)                Output Shape              Param #   \n",
      "=================================================================\n",
      " dense (Dense)               (1, 50)                   300       \n",
      "                                                                 \n",
      " dense_1 (Dense)             (1, 30)                   1530      \n",
      "                                                                 \n",
      " dense_2 (Dense)             (1, 15)                   465       \n",
      "                                                                 \n",
      " dense_3 (Dense)             (1, 5)                    80        \n",
      "                                                                 \n",
      " dense_4 (Dense)             (1, 1)                    6         \n",
      "                                                                 \n",
      "=================================================================\n",
      "Total params: 2381 (9.30 KB)\n",
      "Trainable params: 2381 (9.30 KB)\n",
      "Non-trainable params: 0 (0.00 Byte)\n",
      "_________________________________________________________________\n"
     ]
    }
   ],
   "source": [
    "model1_raw.summary() # checking the summary of our sequential model like how much param it train on each layer etc"
   ]
  },
  {
   "cell_type": "code",
   "execution_count": 31,
   "id": "c0f00ea6-323f-4740-b249-d9ba65c69e94",
   "metadata": {},
   "outputs": [],
   "source": [
    "# if loss is no longer decreasing considering min_delta and patience\n",
    "patience = tf.keras.callbacks.EarlyStopping(monitor='loss', patience=3)"
   ]
  },
  {
   "cell_type": "code",
   "execution_count": 32,
   "id": "5ee80c99-09a0-42f3-9658-6b4dc1cb7c65",
   "metadata": {},
   "outputs": [],
   "source": [
    "cp1_raw = ModelCheckpoint('models/pressure_forcast_raw/model1', save_best_only=True)  # for saving our model to a location for future use. So we don't need to train model again\n",
    "# `save_best_only=True`, it only saves when the model is considered the \"best\""
   ]
  },
  {
   "cell_type": "code",
   "execution_count": 33,
   "id": "0c920575-a33e-475b-9b2a-b3deddd3b16b",
   "metadata": {},
   "outputs": [],
   "source": [
    "logdir = 'logs/pressure_forcast_raw/model1'"
   ]
  },
  {
   "cell_type": "code",
   "execution_count": 34,
   "id": "576c279c-6925-43e1-849d-8693a733eae7",
   "metadata": {},
   "outputs": [],
   "source": [
    "tensorboard_callback1_raw = tf.keras.callbacks.TensorBoard(log_dir=logdir) # Enable visualizations for TensorBoard.\n",
    "# can read more about this on :- https://www.tensorflow.org/api_docs/python/tf/keras/callbacks/TensorBoard\n",
    "# for launching tensorboad using cli if install tensorflow using pip :- tensorboard --logdir=path_to_your_logs"
   ]
  },
  {
   "cell_type": "code",
   "execution_count": 35,
   "id": "6b55094b-b2d2-4007-a661-cf5bd1812a90",
   "metadata": {},
   "outputs": [],
   "source": [
    "# Configures the model for training. like we can configure loss,optimizer,metrics\n",
    "model1_raw.compile(loss=MeanSquaredError(), optimizer=Adam(learning_rate = 0.001), metrics=[RootMeanSquaredError()])"
   ]
  },
  {
   "cell_type": "code",
   "execution_count": 36,
   "id": "8cd87651-deb0-4dea-a389-2177433761dd",
   "metadata": {},
   "outputs": [
    {
     "name": "stdout",
     "output_type": "stream",
     "text": [
      "Epoch 1/100\n",
      "1846/1875 [============================>.] - ETA: 0s - loss: 6215.9502 - root_mean_squared_error: 78.8413INFO:tensorflow:Assets written to: models/pressure_forcast_raw\\model1\\assets\n"
     ]
    },
    {
     "name": "stderr",
     "output_type": "stream",
     "text": [
      "INFO:tensorflow:Assets written to: models/pressure_forcast_raw\\model1\\assets\n"
     ]
    },
    {
     "name": "stdout",
     "output_type": "stream",
     "text": [
      "1875/1875 [==============================] - 4s 2ms/step - loss: 6119.8276 - root_mean_squared_error: 78.2293 - val_loss: 1.4394 - val_root_mean_squared_error: 1.1998\n",
      "Epoch 2/100\n",
      "1875/1875 [==============================] - 2s 1ms/step - loss: 1.3081 - root_mean_squared_error: 1.1437 - val_loss: 1.5411 - val_root_mean_squared_error: 1.2414\n",
      "Epoch 3/100\n",
      "1875/1875 [==============================] - 2s 1ms/step - loss: 1.3801 - root_mean_squared_error: 1.1748 - val_loss: 1.5325 - val_root_mean_squared_error: 1.2379\n",
      "Epoch 4/100\n",
      "1875/1875 [==============================] - 2s 1ms/step - loss: 1.6867 - root_mean_squared_error: 1.2987 - val_loss: 2.5671 - val_root_mean_squared_error: 1.6022\n",
      "Epoch 5/100\n",
      "1875/1875 [==============================] - 2s 1ms/step - loss: 2.3231 - root_mean_squared_error: 1.5242 - val_loss: 3.6086 - val_root_mean_squared_error: 1.8996\n"
     ]
    }
   ],
   "source": [
    "\"\"\"\n",
    "Trains the model for a fixed number of epochs (dataset iterations).\n",
    "Can configure number of epochs,callbacks,pass validation date,pass batch_size for running in batches.\n",
    "Storing the call in hist so we can use the matrix for future analysis in our case it will store:-\n",
    "['loss', 'root_mean_squared_error', 'val_loss', 'val_root_mean_squared_error']\n",
    "\"\"\"\n",
    "hist1_raw = model1_raw.fit(X_train1_raw, y_train1_raw, validation_data=(X_val1_raw, y_val1_raw), epochs=100, callbacks=[cp1_raw,tensorboard_callback1_raw,patience])"
   ]
  },
  {
   "cell_type": "code",
   "execution_count": 37,
   "id": "3624ab1e-e842-42fe-8fbe-729d6c1d8c3a",
   "metadata": {},
   "outputs": [
    {
     "data": {
      "text/plain": [
       "dict_keys(['loss', 'root_mean_squared_error', 'val_loss', 'val_root_mean_squared_error'])"
      ]
     },
     "execution_count": 37,
     "metadata": {},
     "output_type": "execute_result"
    }
   ],
   "source": [
    "hist1_raw.history.keys()"
   ]
  },
  {
   "cell_type": "markdown",
   "id": "52ae8b31-400f-4839-9867-9d77efbaa496",
   "metadata": {},
   "source": [
    "#### Plot Performance"
   ]
  },
  {
   "cell_type": "markdown",
   "id": "3d6dbb13-cd79-4a2a-bc89-bf2bb3ce0af2",
   "metadata": {},
   "source": [
    "##### MSE LOSS PLOT"
   ]
  },
  {
   "cell_type": "code",
   "execution_count": 38,
   "id": "fd533de2-00eb-4a7d-bf22-ba05c0583bfa",
   "metadata": {},
   "outputs": [
    {
     "data": {
      "image/png": "[encoded data removed]",
      "text/plain": [
       "<Figure size 640x480 with 1 Axes>"
      ]
     },
     "metadata": {},
     "output_type": "display_data"
    }
   ],
   "source": [
    "# plot for visualizing our model MSE train loss with validation loss\n",
    "fig = plt.figure()\n",
    "plt.plot(hist1_raw.history['loss'], color='teal', label='loss')\n",
    "plt.plot(hist1_raw.history['val_loss'], color='orange', label='val_loss')\n",
    "fig.suptitle('MSE Loss', fontsize=20)\n",
    "plt.legend(loc=\"upper left\")\n",
    "plt.show()"
   ]
  },
  {
   "cell_type": "markdown",
   "id": "011bac51-8499-4ba5-ab8e-77730a6caf80",
   "metadata": {},
   "source": [
    "##### RMSE LOSS PLOT"
   ]
  },
  {
   "cell_type": "code",
   "execution_count": 39,
   "id": "51352f92-b079-416b-91da-16e3e11746b7",
   "metadata": {},
   "outputs": [
    {
     "data": {
      "image/png": "[encoded data removed]",
      "text/plain": [
       "<Figure size 640x480 with 1 Axes>"
      ]
     },
     "metadata": {},
     "output_type": "display_data"
    }
   ],
   "source": [
    "# plot for visualizing our model MSE train loss with validation loss\n",
    "fig = plt.figure()\n",
    "plt.plot(hist1_raw.history['root_mean_squared_error'], color='teal', label='loss')\n",
    "plt.plot(hist1_raw.history['val_root_mean_squared_error'], color='orange', label='val_loss')\n",
    "fig.suptitle('RMSE Loss', fontsize=20)\n",
    "plt.legend(loc=\"upper left\")\n",
    "plt.show()"
   ]
  },
  {
   "cell_type": "code",
   "execution_count": 40,
   "id": "4571606b-cec4-4e07-b53e-075bb0bbac9b",
   "metadata": {},
   "outputs": [],
   "source": [
    "# loading the model\n",
    "model1_raw = load_model('models/pressure_forcast_raw/model1/')"
   ]
  },
  {
   "cell_type": "code",
   "execution_count": 41,
   "id": "e0f6969c-d742-45b3-9788-0922c15ad58b",
   "metadata": {},
   "outputs": [
    {
     "name": "stdout",
     "output_type": "stream",
     "text": [
      "1875/1875 [==============================] - 1s 642us/step\n"
     ]
    },
    {
     "data": {
      "text/html": [
       "<div>\n",
       "<style scoped>\n",
       "    .dataframe tbody tr th:only-of-type {\n",
       "        vertical-align: middle;\n",
       "    }\n",
       "\n",
       "    .dataframe tbody tr th {\n",
       "        vertical-align: top;\n",
       "    }\n",
       "\n",
       "    .dataframe thead th {\n",
       "        text-align: right;\n",
       "    }\n",
       "</style>\n",
       "<table border=\"1\" class=\"dataframe\">\n",
       "  <thead>\n",
       "    <tr style=\"text-align: right;\">\n",
       "      <th></th>\n",
       "      <th>Train Predictions</th>\n",
       "      <th>Actuals</th>\n",
       "    </tr>\n",
       "  </thead>\n",
       "  <tbody>\n",
       "    <tr>\n",
       "      <th>0</th>\n",
       "      <td>997.183960</td>\n",
       "      <td>997.71</td>\n",
       "    </tr>\n",
       "    <tr>\n",
       "      <th>1</th>\n",
       "      <td>997.411316</td>\n",
       "      <td>998.33</td>\n",
       "    </tr>\n",
       "    <tr>\n",
       "      <th>2</th>\n",
       "      <td>997.795593</td>\n",
       "      <td>999.17</td>\n",
       "    </tr>\n",
       "    <tr>\n",
       "      <th>3</th>\n",
       "      <td>998.258728</td>\n",
       "      <td>999.69</td>\n",
       "    </tr>\n",
       "    <tr>\n",
       "      <th>4</th>\n",
       "      <td>998.811279</td>\n",
       "      <td>1000.27</td>\n",
       "    </tr>\n",
       "  </tbody>\n",
       "</table>\n",
       "</div>"
      ],
      "text/plain": [
       "   Train Predictions  Actuals\n",
       "0         997.183960   997.71\n",
       "1         997.411316   998.33\n",
       "2         997.795593   999.17\n",
       "3         998.258728   999.69\n",
       "4         998.811279  1000.27"
      ]
     },
     "execution_count": 41,
     "metadata": {},
     "output_type": "execute_result"
    }
   ],
   "source": [
    "# predicting train dataset on loaded model\n",
    "train_predictions1_raw = model1_raw.predict(X_train1_raw).flatten()\n",
    "# storing predicted and actual in a dataframe\n",
    "train_results1_raw = pd.DataFrame(data={'Train Predictions':train_predictions1_raw, 'Actuals':y_train1_raw})\n",
    "train_results1_raw.head()"
   ]
  },
  {
   "cell_type": "code",
   "execution_count": 42,
   "id": "fdf547e6-0b32-401d-925c-7718ac36809c",
   "metadata": {},
   "outputs": [
    {
     "data": {
      "text/plain": [
       "[<matplotlib.lines.Line2D at 0x17588e823d0>]"
      ]
     },
     "execution_count": 42,
     "metadata": {},
     "output_type": "execute_result"
    },
    {
     "data": {
      "image/png": "[encoded data removed]",
      "text/plain": [
       "<Figure size 640x480 with 1 Axes>"
      ]
     },
     "metadata": {},
     "output_type": "display_data"
    }
   ],
   "source": [
    "# plotting the predicted vs actual for visualizing how good the results are\n",
    "plt.plot(train_results1_raw['Train Predictions'][:100])\n",
    "plt.plot(train_results1_raw['Actuals'][:100])"
   ]
  },
  {
   "cell_type": "code",
   "execution_count": 43,
   "id": "e294fbb8-40d3-4397-a8c5-9d429b0d7c27",
   "metadata": {},
   "outputs": [
    {
     "name": "stdout",
     "output_type": "stream",
     "text": [
      "157/157 [==============================] - 0s 653us/step\n"
     ]
    },
    {
     "data": {
      "text/html": [
       "<div>\n",
       "<style scoped>\n",
       "    .dataframe tbody tr th:only-of-type {\n",
       "        vertical-align: middle;\n",
       "    }\n",
       "\n",
       "    .dataframe tbody tr th {\n",
       "        vertical-align: top;\n",
       "    }\n",
       "\n",
       "    .dataframe thead th {\n",
       "        text-align: right;\n",
       "    }\n",
       "</style>\n",
       "<table border=\"1\" class=\"dataframe\">\n",
       "  <thead>\n",
       "    <tr style=\"text-align: right;\">\n",
       "      <th></th>\n",
       "      <th>Val Predictions</th>\n",
       "      <th>Actuals</th>\n",
       "    </tr>\n",
       "  </thead>\n",
       "  <tbody>\n",
       "    <tr>\n",
       "      <th>0</th>\n",
       "      <td>994.550415</td>\n",
       "      <td>993.96</td>\n",
       "    </tr>\n",
       "    <tr>\n",
       "      <th>1</th>\n",
       "      <td>994.391846</td>\n",
       "      <td>994.08</td>\n",
       "    </tr>\n",
       "    <tr>\n",
       "      <th>2</th>\n",
       "      <td>994.313782</td>\n",
       "      <td>994.38</td>\n",
       "    </tr>\n",
       "    <tr>\n",
       "      <th>3</th>\n",
       "      <td>994.348511</td>\n",
       "      <td>994.65</td>\n",
       "    </tr>\n",
       "    <tr>\n",
       "      <th>4</th>\n",
       "      <td>994.474365</td>\n",
       "      <td>994.60</td>\n",
       "    </tr>\n",
       "  </tbody>\n",
       "</table>\n",
       "</div>"
      ],
      "text/plain": [
       "   Val Predictions  Actuals\n",
       "0       994.550415   993.96\n",
       "1       994.391846   994.08\n",
       "2       994.313782   994.38\n",
       "3       994.348511   994.65\n",
       "4       994.474365   994.60"
      ]
     },
     "execution_count": 43,
     "metadata": {},
     "output_type": "execute_result"
    }
   ],
   "source": [
    "# predicting validation dataset on loaded model\n",
    "val_predictions1_raw = model1_raw.predict(X_val1_raw).flatten()\n",
    "# storing predicted and actual in a dataframe\n",
    "val_results1_raw = pd.DataFrame(data={'Val Predictions':val_predictions1_raw, 'Actuals':y_val1_raw})\n",
    "val_results1_raw.head()"
   ]
  },
  {
   "cell_type": "code",
   "execution_count": 44,
   "id": "0fe6d512-473d-478c-8833-740c005b4aeb",
   "metadata": {},
   "outputs": [
    {
     "data": {
      "text/plain": [
       "[<matplotlib.lines.Line2D at 0x17588ed0910>]"
      ]
     },
     "execution_count": 44,
     "metadata": {},
     "output_type": "execute_result"
    },
    {
     "data": {
      "image/png": "[encoded data removed]",
      "text/plain": [
       "<Figure size 640x480 with 1 Axes>"
      ]
     },
     "metadata": {},
     "output_type": "display_data"
    }
   ],
   "source": [
    "# plotting the predicted vs actual for visualizing how good the results are\n",
    "plt.plot(val_results1_raw['Val Predictions'][:100])\n",
    "plt.plot(val_results1_raw['Actuals'][:100])"
   ]
  },
  {
   "cell_type": "code",
   "execution_count": 46,
   "id": "8f94627c-a3ce-44a1-8055-a2b2327734ba",
   "metadata": {},
   "outputs": [
    {
     "name": "stdout",
     "output_type": "stream",
     "text": [
      "159/159 [==============================] - 0s 824us/step\n"
     ]
    },
    {
     "data": {
      "text/html": [
       "<div>\n",
       "<style scoped>\n",
       "    .dataframe tbody tr th:only-of-type {\n",
       "        vertical-align: middle;\n",
       "    }\n",
       "\n",
       "    .dataframe tbody tr th {\n",
       "        vertical-align: top;\n",
       "    }\n",
       "\n",
       "    .dataframe thead th {\n",
       "        text-align: right;\n",
       "    }\n",
       "</style>\n",
       "<table border=\"1\" class=\"dataframe\">\n",
       "  <thead>\n",
       "    <tr style=\"text-align: right;\">\n",
       "      <th></th>\n",
       "      <th>Test Predictions</th>\n",
       "      <th>Actuals</th>\n",
       "    </tr>\n",
       "  </thead>\n",
       "  <tbody>\n",
       "    <tr>\n",
       "      <th>0</th>\n",
       "      <td>981.323975</td>\n",
       "      <td>982.13</td>\n",
       "    </tr>\n",
       "    <tr>\n",
       "      <th>1</th>\n",
       "      <td>981.719177</td>\n",
       "      <td>982.36</td>\n",
       "    </tr>\n",
       "    <tr>\n",
       "      <th>2</th>\n",
       "      <td>982.047729</td>\n",
       "      <td>982.43</td>\n",
       "    </tr>\n",
       "    <tr>\n",
       "      <th>3</th>\n",
       "      <td>982.309875</td>\n",
       "      <td>982.68</td>\n",
       "    </tr>\n",
       "    <tr>\n",
       "      <th>4</th>\n",
       "      <td>982.554199</td>\n",
       "      <td>983.02</td>\n",
       "    </tr>\n",
       "  </tbody>\n",
       "</table>\n",
       "</div>"
      ],
      "text/plain": [
       "   Test Predictions  Actuals\n",
       "0        981.323975   982.13\n",
       "1        981.719177   982.36\n",
       "2        982.047729   982.43\n",
       "3        982.309875   982.68\n",
       "4        982.554199   983.02"
      ]
     },
     "execution_count": 46,
     "metadata": {},
     "output_type": "execute_result"
    }
   ],
   "source": [
    "# predicting validation dataset on loaded model\n",
    "test_predictions1_raw = model1_raw.predict(X_test1_raw).flatten()\n",
    "# storing predicted and actual in a dataframe\n",
    "test_results1_raw = pd.DataFrame(data={'Test Predictions':test_predictions1_raw, 'Actuals':y_test1_raw})\n",
    "test_results1_raw.head()"
   ]
  },
  {
   "cell_type": "code",
   "execution_count": 47,
   "id": "f4d5447b-cfbe-481a-b528-5e8f8761d1e4",
   "metadata": {},
   "outputs": [
    {
     "data": {
      "text/plain": [
       "[<matplotlib.lines.Line2D at 0x1758a587a10>]"
      ]
     },
     "execution_count": 47,
     "metadata": {},
     "output_type": "execute_result"
    },
    {
     "data": {
      "image/png": "[encoded data removed]",
      "text/plain": [
       "<Figure size 640x480 with 1 Axes>"
      ]
     },
     "metadata": {},
     "output_type": "display_data"
    }
   ],
   "source": [
    "# plotting the predicted vs actual for visualizing how good the results are\n",
    "plt.plot(test_results1_raw['Test Predictions'][:100])\n",
    "plt.plot(test_results1_raw['Actuals'][:100])"
   ]
  },
  {
   "cell_type": "code",
   "execution_count": null,
   "id": "0bf3d4b7-d7c5-444b-aafd-55688bb10d72",
   "metadata": {},
   "outputs": [],
   "source": []
  },
  {
   "cell_type": "markdown",
   "id": "afeedf98-1d5c-420e-ba94-be3c3b71e6e2",
   "metadata": {},
   "source": [
    "## We can see model is converging very slowly because input featue is very big value so we will perform standardization before creating our network"
   ]
  },
  {
   "cell_type": "code",
   "execution_count": 48,
   "id": "634fa1a8-337f-428a-b746-81d6e319f6d9",
   "metadata": {},
   "outputs": [],
   "source": [
    "# Calculate mean \n",
    "mean_value = df[\"p (mbar)\"].mean()\n",
    "# Calculate  standard deviation\n",
    "std_value = df[\"p (mbar)\"].std()\n",
    "\n",
    "# Standardize the data\n",
    "df[\"Std p (mbar)\"] = (df[\"p (mbar)\"] - mean_value) / std_value"
   ]
  },
  {
   "cell_type": "code",
   "execution_count": 49,
   "id": "f513f4b9-c9e1-4f42-bb28-9ae1d1d27234",
   "metadata": {},
   "outputs": [
    {
     "data": {
      "text/plain": [
       "<Axes: xlabel='Date Time'>"
      ]
     },
     "execution_count": 49,
     "metadata": {},
     "output_type": "execute_result"
    },
    {
     "data": {
      "image/png": "[encoded data removed]",
      "text/plain": [
       "<Figure size 640x480 with 1 Axes>"
      ]
     },
     "metadata": {},
     "output_type": "display_data"
    }
   ],
   "source": [
    "pressure = df[\"Std p (mbar)\"]\n",
    "pressure.plot()"
   ]
  },
  {
   "cell_type": "markdown",
   "id": "83f855fa-c326-4167-8a9c-4961128e00c6",
   "metadata": {},
   "source": [
    "### WINDOW SIZE = 5"
   ]
  },
  {
   "cell_type": "code",
   "execution_count": 50,
   "id": "4ab6eb39-84a0-4362-8fd8-e2181ee5e5b3",
   "metadata": {},
   "outputs": [
    {
     "data": {
      "text/plain": [
       "((70086, 5), (70086,))"
      ]
     },
     "execution_count": 50,
     "metadata": {},
     "output_type": "execute_result"
    }
   ],
   "source": [
    "WINDOW_SIZE = 5\n",
    "X1, y1 = df_to_X_y(pressure, WINDOW_SIZE)\n",
    "X1.shape, y1.shape"
   ]
  },
  {
   "cell_type": "markdown",
   "id": "e8f09c52-ed4d-4f42-9129-2d2e91470e8e",
   "metadata": {},
   "source": [
    "##### Splitting our dataset into Train,Test and Validation split"
   ]
  },
  {
   "cell_type": "code",
   "execution_count": 51,
   "id": "8b95a39d-5bce-4ef3-b5f8-164de410d43d",
   "metadata": {},
   "outputs": [
    {
     "data": {
      "text/plain": [
       "((60000, 5), (60000,), (5000, 5), (5000,), (5086, 5), (5086,))"
      ]
     },
     "execution_count": 51,
     "metadata": {},
     "output_type": "execute_result"
    }
   ],
   "source": [
    "X_train1, y_train1 = X1[:60000], y1[:60000]\n",
    "X_val1, y_val1 = X1[60000:65000], y1[60000:65000]\n",
    "X_test1, y_test1 = X1[65000:], y1[65000:]\n",
    "X_train1.shape, y_train1.shape, X_val1.shape, y_val1.shape, X_test1.shape, y_test1.shape"
   ]
  },
  {
   "cell_type": "code",
   "execution_count": 52,
   "id": "3428ad21-cb69-4e3d-aea1-4c9fdb83d476",
   "metadata": {
    "scrolled": true
   },
   "outputs": [
    {
     "data": {
      "text/plain": [
       "array([[0.87178575, 0.88614173, 0.91246103, 0.930406  , 0.98663359],\n",
       "       [0.88614173, 0.91246103, 0.930406  , 0.98663359, 1.01654188],\n",
       "       [0.91246103, 0.930406  , 0.98663359, 1.01654188, 1.09071444],\n",
       "       ...,\n",
       "       [0.6468754 , 0.69712133, 0.68156901, 0.66482037, 0.63730474],\n",
       "       [0.69712133, 0.68156901, 0.66482037, 0.63730474, 0.61457444],\n",
       "       [0.68156901, 0.66482037, 0.63730474, 0.61457444, 0.57748816]])"
      ]
     },
     "execution_count": 52,
     "metadata": {},
     "output_type": "execute_result"
    }
   ],
   "source": [
    "X_train1"
   ]
  },
  {
   "cell_type": "markdown",
   "id": "2575f637-9e06-42a2-b833-5c9fad8e302e",
   "metadata": {},
   "source": [
    "##### Creating our Deep neural network model"
   ]
  },
  {
   "cell_type": "code",
   "execution_count": 53,
   "id": "1b1b38fc-4fbe-4345-97ef-cf194791e7dc",
   "metadata": {},
   "outputs": [],
   "source": [
    "tf.random.set_seed(42)"
   ]
  },
  {
   "cell_type": "code",
   "execution_count": 54,
   "id": "92406ec0-3d96-41b4-973f-e32b9b03ee36",
   "metadata": {},
   "outputs": [],
   "source": [
    "model1 = Sequential() # we will be using tenserflow sequential API for modelling"
   ]
  },
  {
   "cell_type": "code",
   "execution_count": 55,
   "id": "83a2ca42-69af-4e15-babd-c3b2a1963df2",
   "metadata": {},
   "outputs": [],
   "source": [
    "model1.add(tf.keras.Input(WINDOW_SIZE,1))  # Adding InputLayer for defining input size of our data."
   ]
  },
  {
   "cell_type": "code",
   "execution_count": 56,
   "id": "6fe86737-c6d8-4c1a-b013-3af2e6b54914",
   "metadata": {},
   "outputs": [],
   "source": [
    "# Adding Dense Layer where unit/neuron are window_size*10 and activation function is relu for non-linearity\n",
    "model1.add(Dense(WINDOW_SIZE*10,activation='relu')) \n",
    "# model1.add(Dropout(0.2))"
   ]
  },
  {
   "cell_type": "code",
   "execution_count": 57,
   "id": "6e9e315a-e9a5-4589-9363-e363fb284aff",
   "metadata": {},
   "outputs": [],
   "source": [
    "# Adding Dense Layer where unit/neuron are window_size*6 and activation function is relu for non-linearity\n",
    "model1.add(Dense(WINDOW_SIZE*6,activation='relu'))\n",
    "# model1.add(Dropout(0.2))"
   ]
  },
  {
   "cell_type": "code",
   "execution_count": 58,
   "id": "1e44d90b-0304-4da6-bbcc-66345b80818a",
   "metadata": {},
   "outputs": [],
   "source": [
    "# Adding Dense Layer where unit/neuron are window_size*3 and activation function is relu for non-linearity\n",
    "model1.add(Dense(WINDOW_SIZE*3,activation='relu'))\n",
    "# model1.add(Dropout(0.05))"
   ]
  },
  {
   "cell_type": "code",
   "execution_count": 59,
   "id": "1755442c-a190-41c1-baff-51a6d99e55e6",
   "metadata": {},
   "outputs": [],
   "source": [
    "# Adding Dense Layer where unit/neuron are window_size and activation function is relu for non-linearity\n",
    "model1.add(Dense(WINDOW_SIZE,activation='relu'))\n",
    "# model1.add(Dropout(0.2))"
   ]
  },
  {
   "cell_type": "code",
   "execution_count": 60,
   "id": "8524b3c7-6245-495f-94bf-7835bc63dd49",
   "metadata": {},
   "outputs": [],
   "source": [
    "# Adding Dense Layer where unit/neuron are 1 which is basically our output layer and activation function is linear because we want our target to be continuous\n",
    "model1.add(Dense(1,activation='linear'))"
   ]
  },
  {
   "cell_type": "code",
   "execution_count": 61,
   "id": "7d871f7a-39f2-4ae0-b7af-0516a1f7ab07",
   "metadata": {},
   "outputs": [
    {
     "name": "stdout",
     "output_type": "stream",
     "text": [
      "Model: \"sequential_1\"\n",
      "_________________________________________________________________\n",
      " Layer (type)                Output Shape              Param #   \n",
      "=================================================================\n",
      " dense_5 (Dense)             (1, 50)                   300       \n",
      "                                                                 \n",
      " dense_6 (Dense)             (1, 30)                   1530      \n",
      "                                                                 \n",
      " dense_7 (Dense)             (1, 15)                   465       \n",
      "                                                                 \n",
      " dense_8 (Dense)             (1, 5)                    80        \n",
      "                                                                 \n",
      " dense_9 (Dense)             (1, 1)                    6         \n",
      "                                                                 \n",
      "=================================================================\n",
      "Total params: 2381 (9.30 KB)\n",
      "Trainable params: 2381 (9.30 KB)\n",
      "Non-trainable params: 0 (0.00 Byte)\n",
      "_________________________________________________________________\n"
     ]
    }
   ],
   "source": [
    "model1.summary() # checking the summary of our sequential model like how much param it train on each layer etc"
   ]
  },
  {
   "cell_type": "code",
   "execution_count": 62,
   "id": "16cff95e-a550-447f-bb06-0f6030d86e17",
   "metadata": {},
   "outputs": [],
   "source": [
    "# if loss is no longer decreasing considering min_delta and patience\n",
    "patience = tf.keras.callbacks.EarlyStopping(monitor='loss', patience=3)"
   ]
  },
  {
   "cell_type": "code",
   "execution_count": 63,
   "id": "86458059-ff9a-4843-8adb-9ce9ad903a38",
   "metadata": {},
   "outputs": [],
   "source": [
    "cp1 = ModelCheckpoint('models/pressure_forcast_std/model1', save_best_only=True)  # for saving our model to a location for future use. So we don't need to train model again\n",
    "# `save_best_only=True`, it only saves when the model is considered the \"best\""
   ]
  },
  {
   "cell_type": "code",
   "execution_count": 64,
   "id": "3ef2ba66-082f-42a2-912c-1ee00fb98af1",
   "metadata": {},
   "outputs": [],
   "source": [
    "logdir = 'logs/pressure_forcast_std/model1'"
   ]
  },
  {
   "cell_type": "code",
   "execution_count": 65,
   "id": "8e9fab58-826e-4339-bb37-79faf3dbb4c6",
   "metadata": {},
   "outputs": [],
   "source": [
    "tensorboard_callback1 = tf.keras.callbacks.TensorBoard(log_dir=logdir) # Enable visualizations for TensorBoard.\n",
    "# can read more about this on :- https://www.tensorflow.org/api_docs/python/tf/keras/callbacks/TensorBoard\n",
    "# for launching tensorboad using cli if install tensorflow using pip :- tensorboard --logdir=path_to_your_logs"
   ]
  },
  {
   "cell_type": "code",
   "execution_count": 66,
   "id": "84a42b42-1b4b-4851-a2e6-0a0228830ff9",
   "metadata": {},
   "outputs": [],
   "source": [
    "# Configures the model for training. like we can configure loss,optimizer,metrics\n",
    "model1.compile(loss=MeanSquaredError(), optimizer=Adam(learning_rate = 0.001), metrics=[RootMeanSquaredError()])"
   ]
  },
  {
   "cell_type": "code",
   "execution_count": 67,
   "id": "5d265e35-2d23-46f5-81e2-a054761cf1b3",
   "metadata": {},
   "outputs": [
    {
     "name": "stdout",
     "output_type": "stream",
     "text": [
      "Epoch 1/100\n",
      "1871/1875 [============================>.] - ETA: 0s - loss: 0.0079 - root_mean_squared_error: 0.0892INFO:tensorflow:Assets written to: models/pressure_forcast_std\\model1\\assets\n"
     ]
    },
    {
     "name": "stderr",
     "output_type": "stream",
     "text": [
      "INFO:tensorflow:Assets written to: models/pressure_forcast_std\\model1\\assets\n"
     ]
    },
    {
     "name": "stdout",
     "output_type": "stream",
     "text": [
      "1875/1875 [==============================] - 3s 1ms/step - loss: 0.0079 - root_mean_squared_error: 0.0891 - val_loss: 0.0017 - val_root_mean_squared_error: 0.0406\n",
      "Epoch 2/100\n",
      "1875/1875 [==============================] - 2s 1ms/step - loss: 0.0036 - root_mean_squared_error: 0.0600 - val_loss: 0.0018 - val_root_mean_squared_error: 0.0423\n",
      "Epoch 3/100\n",
      "1875/1875 [==============================] - 2s 1ms/step - loss: 0.0031 - root_mean_squared_error: 0.0559 - val_loss: 0.0017 - val_root_mean_squared_error: 0.0409\n",
      "Epoch 4/100\n",
      "1830/1875 [============================>.] - ETA: 0s - loss: 0.0029 - root_mean_squared_error: 0.0543INFO:tensorflow:Assets written to: models/pressure_forcast_std\\model1\\assets\n"
     ]
    },
    {
     "name": "stderr",
     "output_type": "stream",
     "text": [
      "INFO:tensorflow:Assets written to: models/pressure_forcast_std\\model1\\assets\n"
     ]
    },
    {
     "name": "stdout",
     "output_type": "stream",
     "text": [
      "1875/1875 [==============================] - 2s 1ms/step - loss: 0.0029 - root_mean_squared_error: 0.0541 - val_loss: 0.0015 - val_root_mean_squared_error: 0.0390\n",
      "Epoch 5/100\n",
      "1875/1875 [==============================] - 2s 1ms/step - loss: 0.0028 - root_mean_squared_error: 0.0531 - val_loss: 0.0019 - val_root_mean_squared_error: 0.0434\n",
      "Epoch 6/100\n",
      "1875/1875 [==============================] - 2s 1ms/step - loss: 0.0028 - root_mean_squared_error: 0.0525 - val_loss: 0.0016 - val_root_mean_squared_error: 0.0395\n",
      "Epoch 7/100\n",
      "1875/1875 [==============================] - 2s 1ms/step - loss: 0.0028 - root_mean_squared_error: 0.0527 - val_loss: 0.0015 - val_root_mean_squared_error: 0.0393\n",
      "Epoch 8/100\n",
      "1875/1875 [==============================] - 2s 1ms/step - loss: 0.0027 - root_mean_squared_error: 0.0516 - val_loss: 0.0016 - val_root_mean_squared_error: 0.0405\n",
      "Epoch 9/100\n",
      "1875/1875 [==============================] - 2s 1ms/step - loss: 0.0027 - root_mean_squared_error: 0.0517 - val_loss: 0.0019 - val_root_mean_squared_error: 0.0441\n",
      "Epoch 10/100\n",
      "1875/1875 [==============================] - 2s 1ms/step - loss: 0.0029 - root_mean_squared_error: 0.0538 - val_loss: 0.0017 - val_root_mean_squared_error: 0.0412\n",
      "Epoch 11/100\n",
      "1850/1875 [============================>.] - ETA: 0s - loss: 0.0027 - root_mean_squared_error: 0.0518INFO:tensorflow:Assets written to: models/pressure_forcast_std\\model1\\assets\n"
     ]
    },
    {
     "name": "stderr",
     "output_type": "stream",
     "text": [
      "INFO:tensorflow:Assets written to: models/pressure_forcast_std\\model1\\assets\n"
     ]
    },
    {
     "name": "stdout",
     "output_type": "stream",
     "text": [
      "1875/1875 [==============================] - 2s 1ms/step - loss: 0.0027 - root_mean_squared_error: 0.0516 - val_loss: 0.0015 - val_root_mean_squared_error: 0.0389\n",
      "Epoch 12/100\n",
      "1875/1875 [==============================] - 2s 1ms/step - loss: 0.0027 - root_mean_squared_error: 0.0515 - val_loss: 0.0016 - val_root_mean_squared_error: 0.0402\n",
      "Epoch 13/100\n",
      "1863/1875 [============================>.] - ETA: 0s - loss: 0.0026 - root_mean_squared_error: 0.0514INFO:tensorflow:Assets written to: models/pressure_forcast_std\\model1\\assets\n"
     ]
    },
    {
     "name": "stderr",
     "output_type": "stream",
     "text": [
      "INFO:tensorflow:Assets written to: models/pressure_forcast_std\\model1\\assets\n"
     ]
    },
    {
     "name": "stdout",
     "output_type": "stream",
     "text": [
      "1875/1875 [==============================] - 3s 1ms/step - loss: 0.0026 - root_mean_squared_error: 0.0513 - val_loss: 0.0015 - val_root_mean_squared_error: 0.0383\n",
      "Epoch 14/100\n",
      "1875/1875 [==============================] - 2s 1ms/step - loss: 0.0026 - root_mean_squared_error: 0.0510 - val_loss: 0.0016 - val_root_mean_squared_error: 0.0400\n",
      "Epoch 15/100\n",
      "1875/1875 [==============================] - 2s 1ms/step - loss: 0.0027 - root_mean_squared_error: 0.0518 - val_loss: 0.0016 - val_root_mean_squared_error: 0.0397\n",
      "Epoch 16/100\n",
      "1875/1875 [==============================] - 2s 1ms/step - loss: 0.0027 - root_mean_squared_error: 0.0517 - val_loss: 0.0015 - val_root_mean_squared_error: 0.0385\n",
      "Epoch 17/100\n",
      "1875/1875 [==============================] - 2s 1ms/step - loss: 0.0027 - root_mean_squared_error: 0.0517 - val_loss: 0.0018 - val_root_mean_squared_error: 0.0421\n"
     ]
    }
   ],
   "source": [
    "\"\"\"\n",
    "Trains the model for a fixed number of epochs (dataset iterations).\n",
    "Can configure number of epochs,callbacks,pass validation date,pass batch_size for running in batches.\n",
    "Storing the call in hist so we can use the matrix for future analysis in our case it will store:-\n",
    "['loss', 'root_mean_squared_error', 'val_loss', 'val_root_mean_squared_error']\n",
    "\"\"\"\n",
    "hist1 = model1.fit(X_train1, y_train1, validation_data=(X_val1, y_val1), epochs=100, callbacks=[cp1,tensorboard_callback1,patience])"
   ]
  },
  {
   "cell_type": "code",
   "execution_count": 68,
   "id": "490345ea-f7cc-4e0b-bfed-ab00a3195bfb",
   "metadata": {},
   "outputs": [
    {
     "data": {
      "text/plain": [
       "dict_keys(['loss', 'root_mean_squared_error', 'val_loss', 'val_root_mean_squared_error'])"
      ]
     },
     "execution_count": 68,
     "metadata": {},
     "output_type": "execute_result"
    }
   ],
   "source": [
    "hist1.history.keys()"
   ]
  },
  {
   "cell_type": "markdown",
   "id": "3d32fda2-1c2a-4549-9ead-487d9c479968",
   "metadata": {},
   "source": [
    "#### Plot Performance"
   ]
  },
  {
   "cell_type": "markdown",
   "id": "8271945c-17ba-4eb7-941e-a0f09f920754",
   "metadata": {},
   "source": [
    "##### MSE LOSS PLOT"
   ]
  },
  {
   "cell_type": "code",
   "execution_count": 69,
   "id": "9e0585f6-080d-4cd7-9ba6-f79b55e3096d",
   "metadata": {},
   "outputs": [
    {
     "data": {
      "image/png": "[encoded data removed]",
      "text/plain": [
       "<Figure size 640x480 with 1 Axes>"
      ]
     },
     "metadata": {},
     "output_type": "display_data"
    }
   ],
   "source": [
    "# plot for visualizing our model MSE train loss with validation loss\n",
    "fig = plt.figure()\n",
    "plt.plot(hist1.history['loss'], color='teal', label='loss')\n",
    "plt.plot(hist1.history['val_loss'], color='orange', label='val_loss')\n",
    "fig.suptitle('MSE Loss', fontsize=20)\n",
    "plt.legend(loc=\"upper left\")\n",
    "plt.show()"
   ]
  },
  {
   "cell_type": "markdown",
   "id": "0b9122ed-5f5f-4ece-b80b-e7f8c5a801ea",
   "metadata": {},
   "source": [
    "##### RMSE LOSS PLOT"
   ]
  },
  {
   "cell_type": "code",
   "execution_count": 70,
   "id": "bc8b372b-3da7-4b04-840f-afc63b3d6a91",
   "metadata": {},
   "outputs": [
    {
     "data": {
      "image/png": "[encoded data removed]",
      "text/plain": [
       "<Figure size 640x480 with 1 Axes>"
      ]
     },
     "metadata": {},
     "output_type": "display_data"
    }
   ],
   "source": [
    "# plot for visualizing our model MSE train loss with validation loss\n",
    "fig = plt.figure()\n",
    "plt.plot(hist1.history['root_mean_squared_error'], color='teal', label='loss')\n",
    "plt.plot(hist1.history['val_root_mean_squared_error'], color='orange', label='val_loss')\n",
    "fig.suptitle('RMSE Loss', fontsize=20)\n",
    "plt.legend(loc=\"upper left\")\n",
    "plt.show()"
   ]
  },
  {
   "cell_type": "code",
   "execution_count": 71,
   "id": "c578075a-7bbd-4d3f-9781-16732ff40d2d",
   "metadata": {},
   "outputs": [],
   "source": [
    "# loading the model\n",
    "model1 = load_model('models/pressure_forcast_std/model1/')"
   ]
  },
  {
   "cell_type": "code",
   "execution_count": 72,
   "id": "a79d9b38-f185-48d3-aa46-c78a2adf613a",
   "metadata": {},
   "outputs": [
    {
     "name": "stdout",
     "output_type": "stream",
     "text": [
      "1875/1875 [==============================] - 1s 626us/step\n"
     ]
    },
    {
     "data": {
      "text/html": [
       "<div>\n",
       "<style scoped>\n",
       "    .dataframe tbody tr th:only-of-type {\n",
       "        vertical-align: middle;\n",
       "    }\n",
       "\n",
       "    .dataframe tbody tr th {\n",
       "        vertical-align: top;\n",
       "    }\n",
       "\n",
       "    .dataframe thead th {\n",
       "        text-align: right;\n",
       "    }\n",
       "</style>\n",
       "<table border=\"1\" class=\"dataframe\">\n",
       "  <thead>\n",
       "    <tr style=\"text-align: right;\">\n",
       "      <th></th>\n",
       "      <th>Train Predictions</th>\n",
       "      <th>Actuals</th>\n",
       "    </tr>\n",
       "  </thead>\n",
       "  <tbody>\n",
       "    <tr>\n",
       "      <th>0</th>\n",
       "      <td>1.015983</td>\n",
       "      <td>1.016542</td>\n",
       "    </tr>\n",
       "    <tr>\n",
       "      <th>1</th>\n",
       "      <td>1.039339</td>\n",
       "      <td>1.090714</td>\n",
       "    </tr>\n",
       "    <tr>\n",
       "      <th>2</th>\n",
       "      <td>1.134505</td>\n",
       "      <td>1.191206</td>\n",
       "    </tr>\n",
       "    <tr>\n",
       "      <th>3</th>\n",
       "      <td>1.256925</td>\n",
       "      <td>1.253416</td>\n",
       "    </tr>\n",
       "    <tr>\n",
       "      <th>4</th>\n",
       "      <td>1.310555</td>\n",
       "      <td>1.322803</td>\n",
       "    </tr>\n",
       "  </tbody>\n",
       "</table>\n",
       "</div>"
      ],
      "text/plain": [
       "   Train Predictions   Actuals\n",
       "0           1.015983  1.016542\n",
       "1           1.039339  1.090714\n",
       "2           1.134505  1.191206\n",
       "3           1.256925  1.253416\n",
       "4           1.310555  1.322803"
      ]
     },
     "execution_count": 72,
     "metadata": {},
     "output_type": "execute_result"
    }
   ],
   "source": [
    "# predicting train dataset on loaded model\n",
    "train_predictions1 = model1.predict(X_train1).flatten()\n",
    "# storing predicted and actual in a dataframe\n",
    "train_results1 = pd.DataFrame(data={'Train Predictions':train_predictions1, 'Actuals':y_train1})\n",
    "train_results1.head()"
   ]
  },
  {
   "cell_type": "code",
   "execution_count": 73,
   "id": "9169e9f0-87b2-46df-91c1-3e95dd0f2cd3",
   "metadata": {},
   "outputs": [
    {
     "data": {
      "text/plain": [
       "[<matplotlib.lines.Line2D at 0x1758d9addd0>]"
      ]
     },
     "execution_count": 73,
     "metadata": {},
     "output_type": "execute_result"
    },
    {
     "data": {
      "image/png": "[encoded data removed]",
      "text/plain": [
       "<Figure size 640x480 with 1 Axes>"
      ]
     },
     "metadata": {},
     "output_type": "display_data"
    }
   ],
   "source": [
    "# plotting the predicted vs actual for visualizing how good the results are\n",
    "plt.plot(train_results1['Train Predictions'][:100])\n",
    "plt.plot(train_results1['Actuals'][:100])"
   ]
  },
  {
   "cell_type": "code",
   "execution_count": 74,
   "id": "643e9543-239e-49f6-ba78-f93fbe54b7ea",
   "metadata": {},
   "outputs": [
    {
     "name": "stdout",
     "output_type": "stream",
     "text": [
      "157/157 [==============================] - 0s 712us/step\n"
     ]
    },
    {
     "data": {
      "text/html": [
       "<div>\n",
       "<style scoped>\n",
       "    .dataframe tbody tr th:only-of-type {\n",
       "        vertical-align: middle;\n",
       "    }\n",
       "\n",
       "    .dataframe tbody tr th {\n",
       "        vertical-align: top;\n",
       "    }\n",
       "\n",
       "    .dataframe thead th {\n",
       "        text-align: right;\n",
       "    }\n",
       "</style>\n",
       "<table border=\"1\" class=\"dataframe\">\n",
       "  <thead>\n",
       "    <tr style=\"text-align: right;\">\n",
       "      <th></th>\n",
       "      <th>Val Predictions</th>\n",
       "      <th>Actuals</th>\n",
       "    </tr>\n",
       "  </thead>\n",
       "  <tbody>\n",
       "    <tr>\n",
       "      <th>0</th>\n",
       "      <td>0.538693</td>\n",
       "      <td>0.567918</td>\n",
       "    </tr>\n",
       "    <tr>\n",
       "      <th>1</th>\n",
       "      <td>0.568053</td>\n",
       "      <td>0.582273</td>\n",
       "    </tr>\n",
       "    <tr>\n",
       "      <th>2</th>\n",
       "      <td>0.591620</td>\n",
       "      <td>0.618163</td>\n",
       "    </tr>\n",
       "    <tr>\n",
       "      <th>3</th>\n",
       "      <td>0.639084</td>\n",
       "      <td>0.650464</td>\n",
       "    </tr>\n",
       "    <tr>\n",
       "      <th>4</th>\n",
       "      <td>0.671926</td>\n",
       "      <td>0.644483</td>\n",
       "    </tr>\n",
       "  </tbody>\n",
       "</table>\n",
       "</div>"
      ],
      "text/plain": [
       "   Val Predictions   Actuals\n",
       "0         0.538693  0.567918\n",
       "1         0.568053  0.582273\n",
       "2         0.591620  0.618163\n",
       "3         0.639084  0.650464\n",
       "4         0.671926  0.644483"
      ]
     },
     "execution_count": 74,
     "metadata": {},
     "output_type": "execute_result"
    }
   ],
   "source": [
    "# predicting validation dataset on loaded model\n",
    "val_predictions1 = model1.predict(X_val1).flatten()\n",
    "# storing predicted and actual in a dataframe\n",
    "val_results1 = pd.DataFrame(data={'Val Predictions':val_predictions1, 'Actuals':y_val1})\n",
    "val_results1.head()"
   ]
  },
  {
   "cell_type": "code",
   "execution_count": 75,
   "id": "693c5100-5cca-47bc-802b-2f5f2470c6c9",
   "metadata": {},
   "outputs": [
    {
     "data": {
      "text/plain": [
       "[<matplotlib.lines.Line2D at 0x1758dc4c350>]"
      ]
     },
     "execution_count": 75,
     "metadata": {},
     "output_type": "execute_result"
    },
    {
     "data": {
      "image/png": "[encoded data removed]",
      "text/plain": [
       "<Figure size 640x480 with 1 Axes>"
      ]
     },
     "metadata": {},
     "output_type": "display_data"
    }
   ],
   "source": [
    "# plotting the predicted vs actual for visualizing how good the results are\n",
    "plt.plot(val_results1['Val Predictions'][:100])\n",
    "plt.plot(val_results1['Actuals'][:100])"
   ]
  },
  {
   "cell_type": "code",
   "execution_count": 76,
   "id": "ee9ec52d-1230-4f51-a684-4e763ddb9b7b",
   "metadata": {},
   "outputs": [
    {
     "name": "stdout",
     "output_type": "stream",
     "text": [
      "159/159 [==============================] - 0s 740us/step\n"
     ]
    },
    {
     "data": {
      "text/html": [
       "<div>\n",
       "<style scoped>\n",
       "    .dataframe tbody tr th:only-of-type {\n",
       "        vertical-align: middle;\n",
       "    }\n",
       "\n",
       "    .dataframe tbody tr th {\n",
       "        vertical-align: top;\n",
       "    }\n",
       "\n",
       "    .dataframe thead th {\n",
       "        text-align: right;\n",
       "    }\n",
       "</style>\n",
       "<table border=\"1\" class=\"dataframe\">\n",
       "  <thead>\n",
       "    <tr style=\"text-align: right;\">\n",
       "      <th></th>\n",
       "      <th>Test Predictions</th>\n",
       "      <th>Actuals</th>\n",
       "    </tr>\n",
       "  </thead>\n",
       "  <tbody>\n",
       "    <tr>\n",
       "      <th>0</th>\n",
       "      <td>-0.872849</td>\n",
       "      <td>-0.847343</td>\n",
       "    </tr>\n",
       "    <tr>\n",
       "      <th>1</th>\n",
       "      <td>-0.815223</td>\n",
       "      <td>-0.819827</td>\n",
       "    </tr>\n",
       "    <tr>\n",
       "      <th>2</th>\n",
       "      <td>-0.794708</td>\n",
       "      <td>-0.811453</td>\n",
       "    </tr>\n",
       "    <tr>\n",
       "      <th>3</th>\n",
       "      <td>-0.801886</td>\n",
       "      <td>-0.781545</td>\n",
       "    </tr>\n",
       "    <tr>\n",
       "      <th>4</th>\n",
       "      <td>-0.766832</td>\n",
       "      <td>-0.740869</td>\n",
       "    </tr>\n",
       "  </tbody>\n",
       "</table>\n",
       "</div>"
      ],
      "text/plain": [
       "   Test Predictions   Actuals\n",
       "0         -0.872849 -0.847343\n",
       "1         -0.815223 -0.819827\n",
       "2         -0.794708 -0.811453\n",
       "3         -0.801886 -0.781545\n",
       "4         -0.766832 -0.740869"
      ]
     },
     "execution_count": 76,
     "metadata": {},
     "output_type": "execute_result"
    }
   ],
   "source": [
    "# predicting validation dataset on loaded model\n",
    "test_predictions1 = model1.predict(X_test1).flatten()\n",
    "# storing predicted and actual in a dataframe\n",
    "test_results1 = pd.DataFrame(data={'Test Predictions':test_predictions1, 'Actuals':y_test1})\n",
    "test_results1.head()"
   ]
  },
  {
   "cell_type": "code",
   "execution_count": 77,
   "id": "dd9d3c95-a5d3-465c-bb52-f5ac1393eb0a",
   "metadata": {},
   "outputs": [
    {
     "data": {
      "text/plain": [
       "[<matplotlib.lines.Line2D at 0x1758fdff690>]"
      ]
     },
     "execution_count": 77,
     "metadata": {},
     "output_type": "execute_result"
    },
    {
     "data": {
      "image/png": "[encoded data removed]",
      "text/plain": [
       "<Figure size 640x480 with 1 Axes>"
      ]
     },
     "metadata": {},
     "output_type": "display_data"
    }
   ],
   "source": [
    "# plotting the predicted vs actual for visualizing how good the results are\n",
    "plt.plot(test_results1['Test Predictions'][:100])\n",
    "plt.plot(test_results1['Actuals'][:100])"
   ]
  },
  {
   "cell_type": "code",
   "execution_count": null,
   "id": "c54ab0f0-a25c-4128-aafc-f435d06d90da",
   "metadata": {},
   "outputs": [],
   "source": []
  },
  {
   "cell_type": "markdown",
   "id": "45a8bc20-3293-49c2-b771-2a590e34a622",
   "metadata": {},
   "source": [
    "### WINDOW SIZE = 10"
   ]
  },
  {
   "cell_type": "code",
   "execution_count": 78,
   "id": "1174e5e0-d873-4b2f-bcc7-93d46bbef39c",
   "metadata": {},
   "outputs": [
    {
     "data": {
      "text/plain": [
       "((70081, 10), (70081,))"
      ]
     },
     "execution_count": 78,
     "metadata": {},
     "output_type": "execute_result"
    }
   ],
   "source": [
    "WINDOW_SIZE = 10\n",
    "X2, y2 = df_to_X_y(pressure, WINDOW_SIZE)\n",
    "X2.shape, y2.shape"
   ]
  },
  {
   "cell_type": "markdown",
   "id": "d776eef4-2905-4cbf-8295-3e3a4bd735eb",
   "metadata": {},
   "source": [
    "##### Splitting our dataset into Train,Test and Validation split"
   ]
  },
  {
   "cell_type": "code",
   "execution_count": 79,
   "id": "8af6e56d-a728-470d-ab44-53623cd05a34",
   "metadata": {},
   "outputs": [
    {
     "data": {
      "text/plain": [
       "((60000, 10), (60000,), (5000, 10), (5000,), (5081, 10), (5081,))"
      ]
     },
     "execution_count": 79,
     "metadata": {},
     "output_type": "execute_result"
    }
   ],
   "source": [
    "X_train2, y_train2 = X2[:60000], y2[:60000]\n",
    "X_val2, y_val2 = X2[60000:65000], y2[60000:65000]\n",
    "X_test2, y_test2 = X2[65000:], y2[65000:]\n",
    "X_train2.shape, y_train2.shape, X_val2.shape, y_val2.shape, X_test2.shape, y_test2.shape"
   ]
  },
  {
   "cell_type": "code",
   "execution_count": 80,
   "id": "655ab6f5-ff2f-4ada-bc95-a4bbb87084dc",
   "metadata": {
    "scrolled": true
   },
   "outputs": [
    {
     "data": {
      "text/plain": [
       "array([[0.87178575, 0.88614173, 0.91246103, ..., 1.1912063 , 1.25341555,\n",
       "        1.32280279],\n",
       "       [0.88614173, 0.91246103, 0.930406  , ..., 1.25341555, 1.32280279,\n",
       "        1.39458269],\n",
       "       [0.91246103, 0.930406  , 0.98663359, ..., 1.32280279, 1.39458269,\n",
       "        1.32639178],\n",
       "       ...,\n",
       "       [0.6468754 , 0.69712133, 0.68156901, ..., 0.55834685, 0.56791751,\n",
       "        0.58227349],\n",
       "       [0.69712133, 0.68156901, 0.66482037, ..., 0.56791751, 0.58227349,\n",
       "        0.61816344],\n",
       "       [0.68156901, 0.66482037, 0.63730474, ..., 0.58227349, 0.61816344,\n",
       "        0.65046439]])"
      ]
     },
     "execution_count": 80,
     "metadata": {},
     "output_type": "execute_result"
    }
   ],
   "source": [
    "X_train2"
   ]
  },
  {
   "cell_type": "markdown",
   "id": "792d4f61-13c1-44d3-92f2-a340ad40b33b",
   "metadata": {},
   "source": [
    "##### Creating our Deep neural network model"
   ]
  },
  {
   "cell_type": "code",
   "execution_count": 81,
   "id": "df585acc-6ce8-4887-be5c-7dd3c55ff369",
   "metadata": {},
   "outputs": [],
   "source": [
    "tf.random.set_seed(42)"
   ]
  },
  {
   "cell_type": "code",
   "execution_count": 82,
   "id": "accffffe-6a4a-497a-94bb-efc9ee7747a3",
   "metadata": {},
   "outputs": [],
   "source": [
    "model2 = Sequential() # we will be using tenserflow sequential API for modelling"
   ]
  },
  {
   "cell_type": "code",
   "execution_count": 83,
   "id": "94b890f9-3768-4ab6-adc7-16330db57287",
   "metadata": {},
   "outputs": [],
   "source": [
    "model2.add(tf.keras.Input(WINDOW_SIZE,1))  # Adding InputLayer for defining input size of our data."
   ]
  },
  {
   "cell_type": "code",
   "execution_count": 84,
   "id": "242c564f-85f3-48d1-9a09-e8dc586205ad",
   "metadata": {},
   "outputs": [],
   "source": [
    "# Adding Dense Layer where unit/neuron are window_size*10 and activation function is relu for non-linearity\n",
    "model2.add(Dense(WINDOW_SIZE*10,activation='relu')) \n",
    "# model2.add(Dropout(0.2))"
   ]
  },
  {
   "cell_type": "code",
   "execution_count": 85,
   "id": "e6c9bb8f-949d-4230-876e-a9bc8c08092d",
   "metadata": {},
   "outputs": [],
   "source": [
    "# Adding Dense Layer where unit/neuron are window_size*6 and activation function is relu for non-linearity\n",
    "model2.add(Dense(WINDOW_SIZE*6,activation='relu'))\n",
    "# model2.add(Dropout(0.2))"
   ]
  },
  {
   "cell_type": "code",
   "execution_count": 86,
   "id": "9deaca06-9a34-4e5b-9295-a8d6ed6990c3",
   "metadata": {},
   "outputs": [],
   "source": [
    "# Adding Dense Layer where unit/neuron are window_size*3 and activation function is relu for non-linearity\n",
    "model2.add(Dense(WINDOW_SIZE*3,activation='relu'))\n",
    "# model2.add(Dropout(0.05))"
   ]
  },
  {
   "cell_type": "code",
   "execution_count": 87,
   "id": "61aa94db-dcad-4543-8dd1-ef0f8de80532",
   "metadata": {},
   "outputs": [],
   "source": [
    "# Adding Dense Layer where unit/neuron are window_size and activation function is relu for non-linearity\n",
    "model2.add(Dense(WINDOW_SIZE,activation='relu'))\n",
    "# model2.add(Dropout(0.2))"
   ]
  },
  {
   "cell_type": "code",
   "execution_count": 88,
   "id": "5936c416-3645-4223-925e-66f0232c5808",
   "metadata": {},
   "outputs": [],
   "source": [
    "# Adding Dense Layer where unit/neuron are 1 which is basically our output layer and activation function is linear because we want our target to be continuous\n",
    "model2.add(Dense(1,activation='linear'))"
   ]
  },
  {
   "cell_type": "code",
   "execution_count": 89,
   "id": "5f794184-555f-48f6-b2e7-c2f0c796eb4f",
   "metadata": {},
   "outputs": [
    {
     "name": "stdout",
     "output_type": "stream",
     "text": [
      "Model: \"sequential_2\"\n",
      "_________________________________________________________________\n",
      " Layer (type)                Output Shape              Param #   \n",
      "=================================================================\n",
      " dense_10 (Dense)            (1, 100)                  1100      \n",
      "                                                                 \n",
      " dense_11 (Dense)            (1, 60)                   6060      \n",
      "                                                                 \n",
      " dense_12 (Dense)            (1, 30)                   1830      \n",
      "                                                                 \n",
      " dense_13 (Dense)            (1, 10)                   310       \n",
      "                                                                 \n",
      " dense_14 (Dense)            (1, 1)                    11        \n",
      "                                                                 \n",
      "=================================================================\n",
      "Total params: 9311 (36.37 KB)\n",
      "Trainable params: 9311 (36.37 KB)\n",
      "Non-trainable params: 0 (0.00 Byte)\n",
      "_________________________________________________________________\n"
     ]
    }
   ],
   "source": [
    "model2.summary() # checking the summary of our sequential model like how much param it train on each layer etc"
   ]
  },
  {
   "cell_type": "code",
   "execution_count": 90,
   "id": "46be51fd-535f-46d3-b222-dcb81c89df67",
   "metadata": {},
   "outputs": [],
   "source": [
    "# if loss is no longer decreasing considering min_delta and patience\n",
    "patience = tf.keras.callbacks.EarlyStopping(monitor='loss', patience=3)"
   ]
  },
  {
   "cell_type": "code",
   "execution_count": 91,
   "id": "1405149b-fe89-471c-b397-eaf06b2b2729",
   "metadata": {},
   "outputs": [],
   "source": [
    "cp2 = ModelCheckpoint('models/pressure_forcast_std/model2', save_best_only=True)  # for saving our model to a location for future use. So we don't need to train model again\n",
    "# `save_best_only=True`, it only saves when the model is considered the \"best\""
   ]
  },
  {
   "cell_type": "code",
   "execution_count": 92,
   "id": "83592cf3-6630-4ce3-9b1f-90d16bdf8836",
   "metadata": {},
   "outputs": [],
   "source": [
    "logdir = 'logs/pressure_forcast_std/model2'"
   ]
  },
  {
   "cell_type": "code",
   "execution_count": 93,
   "id": "c5235c8f-b31e-426d-8cc0-0f60ec9e892c",
   "metadata": {},
   "outputs": [],
   "source": [
    "tensorboard_callback2 = tf.keras.callbacks.TensorBoard(log_dir=logdir) # Enable visualizations for TensorBoard.\n",
    "# can read more about this on :- https://www.tensorflow.org/api_docs/python/tf/keras/callbacks/TensorBoard\n",
    "# for launching tensorboad using cli if install tensorflow using pip :- tensorboard --logdir=path_to_your_logs"
   ]
  },
  {
   "cell_type": "code",
   "execution_count": 94,
   "id": "fafb3824-70b6-45f3-a3b8-c7d9272d5b61",
   "metadata": {},
   "outputs": [],
   "source": [
    "# Configures the model for training. like we can configure loss,optimizer,metrics\n",
    "model2.compile(loss=MeanSquaredError(), optimizer=Adam(learning_rate = 0.001), metrics=[RootMeanSquaredError()])"
   ]
  },
  {
   "cell_type": "code",
   "execution_count": 95,
   "id": "8e81d0a0-f903-494d-b221-0108a617c8aa",
   "metadata": {},
   "outputs": [
    {
     "name": "stdout",
     "output_type": "stream",
     "text": [
      "Epoch 1/100\n",
      "1838/1875 [============================>.] - ETA: 0s - loss: 0.0092 - root_mean_squared_error: 0.0960INFO:tensorflow:Assets written to: models/pressure_forcast_std\\model2\\assets\n"
     ]
    },
    {
     "name": "stderr",
     "output_type": "stream",
     "text": [
      "INFO:tensorflow:Assets written to: models/pressure_forcast_std\\model2\\assets\n"
     ]
    },
    {
     "name": "stdout",
     "output_type": "stream",
     "text": [
      "1875/1875 [==============================] - 3s 1ms/step - loss: 0.0091 - root_mean_squared_error: 0.0954 - val_loss: 0.0026 - val_root_mean_squared_error: 0.0505\n",
      "Epoch 2/100\n",
      "1875/1875 [==============================] - 2s 1ms/step - loss: 0.0040 - root_mean_squared_error: 0.0634 - val_loss: 0.0033 - val_root_mean_squared_error: 0.0573\n",
      "Epoch 3/100\n",
      "1845/1875 [============================>.] - ETA: 0s - loss: 0.0033 - root_mean_squared_error: 0.0576INFO:tensorflow:Assets written to: models/pressure_forcast_std\\model2\\assets\n"
     ]
    },
    {
     "name": "stderr",
     "output_type": "stream",
     "text": [
      "INFO:tensorflow:Assets written to: models/pressure_forcast_std\\model2\\assets\n"
     ]
    },
    {
     "name": "stdout",
     "output_type": "stream",
     "text": [
      "1875/1875 [==============================] - 3s 2ms/step - loss: 0.0033 - root_mean_squared_error: 0.0574 - val_loss: 0.0020 - val_root_mean_squared_error: 0.0452\n",
      "Epoch 4/100\n",
      "1868/1875 [============================>.] - ETA: 0s - loss: 0.0033 - root_mean_squared_error: 0.0574INFO:tensorflow:Assets written to: models/pressure_forcast_std\\model2\\assets\n"
     ]
    },
    {
     "name": "stderr",
     "output_type": "stream",
     "text": [
      "INFO:tensorflow:Assets written to: models/pressure_forcast_std\\model2\\assets\n"
     ]
    },
    {
     "name": "stdout",
     "output_type": "stream",
     "text": [
      "1875/1875 [==============================] - 3s 1ms/step - loss: 0.0033 - root_mean_squared_error: 0.0574 - val_loss: 0.0017 - val_root_mean_squared_error: 0.0412\n",
      "Epoch 5/100\n",
      "1875/1875 [==============================] - 2s 1ms/step - loss: 0.0029 - root_mean_squared_error: 0.0542 - val_loss: 0.0017 - val_root_mean_squared_error: 0.0415\n",
      "Epoch 6/100\n",
      "1855/1875 [============================>.] - ETA: 0s - loss: 0.0032 - root_mean_squared_error: 0.0562INFO:tensorflow:Assets written to: models/pressure_forcast_std\\model2\\assets\n"
     ]
    },
    {
     "name": "stderr",
     "output_type": "stream",
     "text": [
      "INFO:tensorflow:Assets written to: models/pressure_forcast_std\\model2\\assets\n"
     ]
    },
    {
     "name": "stdout",
     "output_type": "stream",
     "text": [
      "1875/1875 [==============================] - 2s 1ms/step - loss: 0.0031 - root_mean_squared_error: 0.0560 - val_loss: 0.0017 - val_root_mean_squared_error: 0.0407\n",
      "Epoch 7/100\n",
      "1875/1875 [==============================] - 2s 1ms/step - loss: 0.0032 - root_mean_squared_error: 0.0569 - val_loss: 0.0022 - val_root_mean_squared_error: 0.0465\n",
      "Epoch 8/100\n",
      "1875/1875 [==============================] - 2s 1ms/step - loss: 0.0028 - root_mean_squared_error: 0.0532 - val_loss: 0.0017 - val_root_mean_squared_error: 0.0412\n",
      "Epoch 9/100\n",
      "1875/1875 [==============================] - 2s 1ms/step - loss: 0.0031 - root_mean_squared_error: 0.0558 - val_loss: 0.0021 - val_root_mean_squared_error: 0.0462\n",
      "Epoch 10/100\n",
      "1846/1875 [============================>.] - ETA: 0s - loss: 0.0029 - root_mean_squared_error: 0.0542INFO:tensorflow:Assets written to: models/pressure_forcast_std\\model2\\assets\n"
     ]
    },
    {
     "name": "stderr",
     "output_type": "stream",
     "text": [
      "INFO:tensorflow:Assets written to: models/pressure_forcast_std\\model2\\assets\n"
     ]
    },
    {
     "name": "stdout",
     "output_type": "stream",
     "text": [
      "1875/1875 [==============================] - 3s 1ms/step - loss: 0.0029 - root_mean_squared_error: 0.0541 - val_loss: 0.0015 - val_root_mean_squared_error: 0.0391\n",
      "Epoch 11/100\n",
      "1875/1875 [==============================] - 2s 1ms/step - loss: 0.0027 - root_mean_squared_error: 0.0520 - val_loss: 0.0019 - val_root_mean_squared_error: 0.0441\n",
      "Epoch 12/100\n",
      "1875/1875 [==============================] - 2s 1ms/step - loss: 0.0028 - root_mean_squared_error: 0.0527 - val_loss: 0.0025 - val_root_mean_squared_error: 0.0504\n",
      "Epoch 13/100\n",
      "1875/1875 [==============================] - 2s 1ms/step - loss: 0.0028 - root_mean_squared_error: 0.0531 - val_loss: 0.0017 - val_root_mean_squared_error: 0.0411\n",
      "Epoch 14/100\n",
      "1846/1875 [============================>.] - ETA: 0s - loss: 0.0027 - root_mean_squared_error: 0.0522INFO:tensorflow:Assets written to: models/pressure_forcast_std\\model2\\assets\n"
     ]
    },
    {
     "name": "stderr",
     "output_type": "stream",
     "text": [
      "INFO:tensorflow:Assets written to: models/pressure_forcast_std\\model2\\assets\n"
     ]
    },
    {
     "name": "stdout",
     "output_type": "stream",
     "text": [
      "1875/1875 [==============================] - 3s 1ms/step - loss: 0.0027 - root_mean_squared_error: 0.0521 - val_loss: 0.0015 - val_root_mean_squared_error: 0.0390\n"
     ]
    }
   ],
   "source": [
    "\"\"\"\n",
    "Trains the model for a fixed number of epochs (dataset iterations).\n",
    "Can configure number of epochs,callbacks,pass validation date,pass batch_size for running in batches.\n",
    "Storing the call in hist so we can use the matrix for future analysis in our case it will store:-\n",
    "['loss', 'root_mean_squared_error', 'val_loss', 'val_root_mean_squared_error']\n",
    "\"\"\"\n",
    "hist2 = model2.fit(X_train2, y_train2, validation_data=(X_val2, y_val2), epochs=100, callbacks=[cp2,tensorboard_callback2,patience])"
   ]
  },
  {
   "cell_type": "code",
   "execution_count": 96,
   "id": "e919ffee-ce2e-4696-b3b4-133589ad1498",
   "metadata": {
    "scrolled": true
   },
   "outputs": [
    {
     "data": {
      "text/plain": [
       "dict_keys(['loss', 'root_mean_squared_error', 'val_loss', 'val_root_mean_squared_error'])"
      ]
     },
     "execution_count": 96,
     "metadata": {},
     "output_type": "execute_result"
    }
   ],
   "source": [
    "hist2.history.keys()"
   ]
  },
  {
   "cell_type": "markdown",
   "id": "1f6955d4-47ff-4d84-9260-3acb5b632ce6",
   "metadata": {},
   "source": [
    "#### Plot Performance"
   ]
  },
  {
   "cell_type": "markdown",
   "id": "d5dc6be5-3bc4-4985-8143-7bfee79fc076",
   "metadata": {},
   "source": [
    "##### MSE LOSS PLOT"
   ]
  },
  {
   "cell_type": "code",
   "execution_count": 97,
   "id": "d9338dc8-d40f-412d-98db-d73153113b00",
   "metadata": {},
   "outputs": [
    {
     "data": {
      "image/png": "[encoded data removed]",
      "text/plain": [
       "<Figure size 640x480 with 1 Axes>"
      ]
     },
     "metadata": {},
     "output_type": "display_data"
    }
   ],
   "source": [
    "# plot for visualizing our model MSE train loss with validation loss\n",
    "fig = plt.figure()\n",
    "plt.plot(hist2.history['loss'], color='teal', label='loss')\n",
    "plt.plot(hist2.history['val_loss'], color='orange', label='val_loss')\n",
    "fig.suptitle('MSE Loss', fontsize=20)\n",
    "plt.legend(loc=\"upper left\")\n",
    "plt.show()"
   ]
  },
  {
   "cell_type": "markdown",
   "id": "2075b1cf-b572-4bba-9ae5-035ddf745f89",
   "metadata": {},
   "source": [
    "##### RMSE LOSS PLOT"
   ]
  },
  {
   "cell_type": "code",
   "execution_count": 98,
   "id": "3ca9fb68-3b8c-41aa-b85c-5779caa8413d",
   "metadata": {},
   "outputs": [
    {
     "data": {
      "image/png": "[encoded data removed]",
      "text/plain": [
       "<Figure size 640x480 with 1 Axes>"
      ]
     },
     "metadata": {},
     "output_type": "display_data"
    }
   ],
   "source": [
    "# plot for visualizing our model MSE train loss with validation loss\n",
    "fig = plt.figure()\n",
    "plt.plot(hist2.history['root_mean_squared_error'], color='teal', label='loss')\n",
    "plt.plot(hist2.history['val_root_mean_squared_error'], color='orange', label='val_loss')\n",
    "fig.suptitle('RMSE Loss', fontsize=20)\n",
    "plt.legend(loc=\"upper left\")\n",
    "plt.show()"
   ]
  },
  {
   "cell_type": "code",
   "execution_count": 99,
   "id": "32e1aa1c-99d7-47bb-a339-7f49553bd2e1",
   "metadata": {},
   "outputs": [],
   "source": [
    "# loading the model\n",
    "model2 = load_model('models/pressure_forcast_std/model2/')"
   ]
  },
  {
   "cell_type": "code",
   "execution_count": 100,
   "id": "b98a6b4c-9664-46d5-ad14-0979a5652e59",
   "metadata": {},
   "outputs": [
    {
     "name": "stdout",
     "output_type": "stream",
     "text": [
      "1875/1875 [==============================] - 1s 644us/step\n"
     ]
    },
    {
     "data": {
      "text/html": [
       "<div>\n",
       "<style scoped>\n",
       "    .dataframe tbody tr th:only-of-type {\n",
       "        vertical-align: middle;\n",
       "    }\n",
       "\n",
       "    .dataframe tbody tr th {\n",
       "        vertical-align: top;\n",
       "    }\n",
       "\n",
       "    .dataframe thead th {\n",
       "        text-align: right;\n",
       "    }\n",
       "</style>\n",
       "<table border=\"1\" class=\"dataframe\">\n",
       "  <thead>\n",
       "    <tr style=\"text-align: right;\">\n",
       "      <th></th>\n",
       "      <th>Train Predictions</th>\n",
       "      <th>Actuals</th>\n",
       "    </tr>\n",
       "  </thead>\n",
       "  <tbody>\n",
       "    <tr>\n",
       "      <th>0</th>\n",
       "      <td>1.363375</td>\n",
       "      <td>1.394583</td>\n",
       "    </tr>\n",
       "    <tr>\n",
       "      <th>1</th>\n",
       "      <td>1.433223</td>\n",
       "      <td>1.326392</td>\n",
       "    </tr>\n",
       "    <tr>\n",
       "      <th>2</th>\n",
       "      <td>1.292928</td>\n",
       "      <td>1.294091</td>\n",
       "    </tr>\n",
       "    <tr>\n",
       "      <th>3</th>\n",
       "      <td>1.249626</td>\n",
       "      <td>1.267772</td>\n",
       "    </tr>\n",
       "    <tr>\n",
       "      <th>4</th>\n",
       "      <td>1.228239</td>\n",
       "      <td>1.276146</td>\n",
       "    </tr>\n",
       "  </tbody>\n",
       "</table>\n",
       "</div>"
      ],
      "text/plain": [
       "   Train Predictions   Actuals\n",
       "0           1.363375  1.394583\n",
       "1           1.433223  1.326392\n",
       "2           1.292928  1.294091\n",
       "3           1.249626  1.267772\n",
       "4           1.228239  1.276146"
      ]
     },
     "execution_count": 100,
     "metadata": {},
     "output_type": "execute_result"
    }
   ],
   "source": [
    "# predicting train dataset on loaded model\n",
    "train_predictions2 = model2.predict(X_train2).flatten()\n",
    "# storing predicted and actual in a dataframe\n",
    "train_results2 = pd.DataFrame(data={'Train Predictions':train_predictions2, 'Actuals':y_train2})\n",
    "train_results2.head()"
   ]
  },
  {
   "cell_type": "code",
   "execution_count": 101,
   "id": "2b086592-cc3c-49a2-b15f-2023bb671ec8",
   "metadata": {},
   "outputs": [
    {
     "data": {
      "text/plain": [
       "[<matplotlib.lines.Line2D at 0x1758dd90110>]"
      ]
     },
     "execution_count": 101,
     "metadata": {},
     "output_type": "execute_result"
    },
    {
     "data": {
      "image/png": "[encoded data removed]",
      "text/plain": [
       "<Figure size 640x480 with 1 Axes>"
      ]
     },
     "metadata": {},
     "output_type": "display_data"
    }
   ],
   "source": [
    "# plotting the predicted vs actual for visualizing how good the results are\n",
    "plt.plot(train_results2['Train Predictions'][:100])\n",
    "plt.plot(train_results2['Actuals'][:100])"
   ]
  },
  {
   "cell_type": "code",
   "execution_count": 102,
   "id": "9b25120a-2714-4256-8aba-2bf05f4c7ced",
   "metadata": {},
   "outputs": [
    {
     "name": "stdout",
     "output_type": "stream",
     "text": [
      "157/157 [==============================] - 0s 727us/step\n"
     ]
    },
    {
     "data": {
      "text/html": [
       "<div>\n",
       "<style scoped>\n",
       "    .dataframe tbody tr th:only-of-type {\n",
       "        vertical-align: middle;\n",
       "    }\n",
       "\n",
       "    .dataframe tbody tr th {\n",
       "        vertical-align: top;\n",
       "    }\n",
       "\n",
       "    .dataframe thead th {\n",
       "        text-align: right;\n",
       "    }\n",
       "</style>\n",
       "<table border=\"1\" class=\"dataframe\">\n",
       "  <thead>\n",
       "    <tr style=\"text-align: right;\">\n",
       "      <th></th>\n",
       "      <th>Val Predictions</th>\n",
       "      <th>Actuals</th>\n",
       "    </tr>\n",
       "  </thead>\n",
       "  <tbody>\n",
       "    <tr>\n",
       "      <th>0</th>\n",
       "      <td>0.638653</td>\n",
       "      <td>0.644483</td>\n",
       "    </tr>\n",
       "    <tr>\n",
       "      <th>1</th>\n",
       "      <td>0.631434</td>\n",
       "      <td>0.679176</td>\n",
       "    </tr>\n",
       "    <tr>\n",
       "      <th>2</th>\n",
       "      <td>0.682138</td>\n",
       "      <td>0.667213</td>\n",
       "    </tr>\n",
       "    <tr>\n",
       "      <th>3</th>\n",
       "      <td>0.659088</td>\n",
       "      <td>0.676784</td>\n",
       "    </tr>\n",
       "    <tr>\n",
       "      <th>4</th>\n",
       "      <td>0.676068</td>\n",
       "      <td>0.683962</td>\n",
       "    </tr>\n",
       "  </tbody>\n",
       "</table>\n",
       "</div>"
      ],
      "text/plain": [
       "   Val Predictions   Actuals\n",
       "0         0.638653  0.644483\n",
       "1         0.631434  0.679176\n",
       "2         0.682138  0.667213\n",
       "3         0.659088  0.676784\n",
       "4         0.676068  0.683962"
      ]
     },
     "execution_count": 102,
     "metadata": {},
     "output_type": "execute_result"
    }
   ],
   "source": [
    "# predicting validation dataset on loaded model\n",
    "val_predictions2 = model2.predict(X_val2).flatten()\n",
    "# storing predicted and actual in a dataframe\n",
    "val_results2 = pd.DataFrame(data={'Val Predictions':val_predictions2, 'Actuals':y_val2})\n",
    "val_results2.head()"
   ]
  },
  {
   "cell_type": "code",
   "execution_count": 103,
   "id": "690ca139-2adc-47a2-8d3f-e7a02f95b329",
   "metadata": {},
   "outputs": [
    {
     "data": {
      "text/plain": [
       "[<matplotlib.lines.Line2D at 0x1759223d350>]"
      ]
     },
     "execution_count": 103,
     "metadata": {},
     "output_type": "execute_result"
    },
    {
     "data": {
      "image/png": "[encoded data removed]",
      "text/plain": [
       "<Figure size 640x480 with 1 Axes>"
      ]
     },
     "metadata": {},
     "output_type": "display_data"
    }
   ],
   "source": [
    "# plotting the predicted vs actual for visualizing how good the results are\n",
    "plt.plot(val_results2['Val Predictions'][:100])\n",
    "plt.plot(val_results2['Actuals'][:100])"
   ]
  },
  {
   "cell_type": "code",
   "execution_count": 104,
   "id": "4d7ee363-1bcf-4929-9761-81ce76885a54",
   "metadata": {},
   "outputs": [
    {
     "name": "stdout",
     "output_type": "stream",
     "text": [
      "159/159 [==============================] - 0s 733us/step\n"
     ]
    },
    {
     "data": {
      "text/html": [
       "<div>\n",
       "<style scoped>\n",
       "    .dataframe tbody tr th:only-of-type {\n",
       "        vertical-align: middle;\n",
       "    }\n",
       "\n",
       "    .dataframe tbody tr th {\n",
       "        vertical-align: top;\n",
       "    }\n",
       "\n",
       "    .dataframe thead th {\n",
       "        text-align: right;\n",
       "    }\n",
       "</style>\n",
       "<table border=\"1\" class=\"dataframe\">\n",
       "  <thead>\n",
       "    <tr style=\"text-align: right;\">\n",
       "      <th></th>\n",
       "      <th>Test Predictions</th>\n",
       "      <th>Actuals</th>\n",
       "    </tr>\n",
       "  </thead>\n",
       "  <tbody>\n",
       "    <tr>\n",
       "      <th>0</th>\n",
       "      <td>-0.712893</td>\n",
       "      <td>-0.672678</td>\n",
       "    </tr>\n",
       "    <tr>\n",
       "      <th>1</th>\n",
       "      <td>-0.627433</td>\n",
       "      <td>-0.672678</td>\n",
       "    </tr>\n",
       "    <tr>\n",
       "      <th>2</th>\n",
       "      <td>-0.646572</td>\n",
       "      <td>-0.640377</td>\n",
       "    </tr>\n",
       "    <tr>\n",
       "      <th>3</th>\n",
       "      <td>-0.616307</td>\n",
       "      <td>-0.594917</td>\n",
       "    </tr>\n",
       "    <tr>\n",
       "      <th>4</th>\n",
       "      <td>-0.565363</td>\n",
       "      <td>-0.604488</td>\n",
       "    </tr>\n",
       "  </tbody>\n",
       "</table>\n",
       "</div>"
      ],
      "text/plain": [
       "   Test Predictions   Actuals\n",
       "0         -0.712893 -0.672678\n",
       "1         -0.627433 -0.672678\n",
       "2         -0.646572 -0.640377\n",
       "3         -0.616307 -0.594917\n",
       "4         -0.565363 -0.604488"
      ]
     },
     "execution_count": 104,
     "metadata": {},
     "output_type": "execute_result"
    }
   ],
   "source": [
    "# predicting validation dataset on loaded model\n",
    "test_predictions2 = model2.predict(X_test2).flatten()\n",
    "# storing predicted and actual in a dataframe\n",
    "test_results2 = pd.DataFrame(data={'Test Predictions':test_predictions2, 'Actuals':y_test2})\n",
    "test_results2.head()"
   ]
  },
  {
   "cell_type": "code",
   "execution_count": 105,
   "id": "8fb3787f-e17e-46f4-9788-72d94717773e",
   "metadata": {},
   "outputs": [
    {
     "data": {
      "text/plain": [
       "[<matplotlib.lines.Line2D at 0x175922c4550>]"
      ]
     },
     "execution_count": 105,
     "metadata": {},
     "output_type": "execute_result"
    },
    {
     "data": {
      "image/png": "[encoded data removed]",
      "text/plain": [
       "<Figure size 640x480 with 1 Axes>"
      ]
     },
     "metadata": {},
     "output_type": "display_data"
    }
   ],
   "source": [
    "# plotting the predicted vs actual for visualizing how good the results are\n",
    "plt.plot(test_results2['Test Predictions'][:100])\n",
    "plt.plot(test_results2['Actuals'][:100])"
   ]
  },
  {
   "cell_type": "code",
   "execution_count": null,
   "id": "1cd8b4cb-f88b-44fb-9392-4c1f18064c60",
   "metadata": {},
   "outputs": [],
   "source": []
  },
  {
   "cell_type": "code",
   "execution_count": null,
   "id": "253f1cb4-7ba5-44f4-8ff0-c4702e9d8daa",
   "metadata": {},
   "outputs": [],
   "source": []
  },
  {
   "cell_type": "markdown",
   "id": "5c7d7c1c-ea5c-487a-a4b9-9e226347bd4f",
   "metadata": {},
   "source": [
    "### WINDOW SIZE = 15"
   ]
  },
  {
   "cell_type": "code",
   "execution_count": 106,
   "id": "b7ac7e37-9207-4b39-b75a-301f4a7bac48",
   "metadata": {},
   "outputs": [
    {
     "data": {
      "text/plain": [
       "((70076, 15), (70076,))"
      ]
     },
     "execution_count": 106,
     "metadata": {},
     "output_type": "execute_result"
    }
   ],
   "source": [
    "WINDOW_SIZE = 15\n",
    "X3, y3 = df_to_X_y(pressure, WINDOW_SIZE)\n",
    "X3.shape, y3.shape"
   ]
  },
  {
   "cell_type": "markdown",
   "id": "cf026c16-2f34-410a-ba65-c4c3a307b55e",
   "metadata": {},
   "source": [
    "##### Splitting our dataset into Train,Test and Validation split"
   ]
  },
  {
   "cell_type": "code",
   "execution_count": 107,
   "id": "460a2141-f638-4193-aa3d-9338a2975428",
   "metadata": {},
   "outputs": [
    {
     "data": {
      "text/plain": [
       "((60000, 15), (60000,), (5000, 15), (5000,), (5076, 15), (5076,))"
      ]
     },
     "execution_count": 107,
     "metadata": {},
     "output_type": "execute_result"
    }
   ],
   "source": [
    "X_train3, y_train3 = X3[:60000], y3[:60000]\n",
    "X_val3, y_val3 = X3[60000:65000], y3[60000:65000]\n",
    "X_test3, y_test3 = X3[65000:], y3[65000:]\n",
    "X_train3.shape, y_train3.shape, X_val3.shape, y_val3.shape, X_test3.shape, y_test3.shape"
   ]
  },
  {
   "cell_type": "code",
   "execution_count": 108,
   "id": "6b067c41-d52d-4489-93c0-184198a9c8c5",
   "metadata": {
    "scrolled": true
   },
   "outputs": [
    {
     "data": {
      "text/plain": [
       "array([[0.87178575, 0.88614173, 0.91246103, ..., 1.29409083, 1.26777153,\n",
       "        1.27614585],\n",
       "       [0.88614173, 0.91246103, 0.930406  , ..., 1.26777153, 1.27614585,\n",
       "        1.28332384],\n",
       "       [0.91246103, 0.930406  , 0.98663359, ..., 1.27614585, 1.28332384,\n",
       "        1.31083947],\n",
       "       ...,\n",
       "       [0.6468754 , 0.69712133, 0.68156901, ..., 0.64448273, 0.64448273,\n",
       "        0.67917635],\n",
       "       [0.69712133, 0.68156901, 0.66482037, ..., 0.64448273, 0.67917635,\n",
       "        0.66721303],\n",
       "       [0.68156901, 0.66482037, 0.63730474, ..., 0.67917635, 0.66721303,\n",
       "        0.67678369]])"
      ]
     },
     "execution_count": 108,
     "metadata": {},
     "output_type": "execute_result"
    }
   ],
   "source": [
    "X_train3"
   ]
  },
  {
   "cell_type": "markdown",
   "id": "204f4cc6-1986-4733-9f53-12bdb948d665",
   "metadata": {},
   "source": [
    "##### Creating our Deep neural network model"
   ]
  },
  {
   "cell_type": "code",
   "execution_count": 109,
   "id": "71c6d101-787a-418f-9a65-af41ed294b0f",
   "metadata": {},
   "outputs": [],
   "source": [
    "tf.random.set_seed(42)"
   ]
  },
  {
   "cell_type": "code",
   "execution_count": 110,
   "id": "6dda68ed-ce8b-4101-8b53-b04b49b17302",
   "metadata": {},
   "outputs": [],
   "source": [
    "model3 = Sequential() # we will be using tenserflow sequential API for modelling"
   ]
  },
  {
   "cell_type": "code",
   "execution_count": 111,
   "id": "ab155313-fa71-422e-82b4-874b0e3d79c8",
   "metadata": {},
   "outputs": [],
   "source": [
    "model3.add(tf.keras.Input(WINDOW_SIZE,1))  # Adding InputLayer for defining input size of our data."
   ]
  },
  {
   "cell_type": "code",
   "execution_count": 112,
   "id": "a33894bd-be30-42f4-9ddc-a361a9eafa2f",
   "metadata": {},
   "outputs": [],
   "source": [
    "# Adding Dense Layer where unit/neuron are window_size*10 and activation function is relu for non-linearity\n",
    "model3.add(Dense(WINDOW_SIZE*10,activation='relu')) \n",
    "# model3.add(Dropout(0.2))"
   ]
  },
  {
   "cell_type": "code",
   "execution_count": 113,
   "id": "a37d82b7-e13e-45db-9daa-0b63764b3b3d",
   "metadata": {},
   "outputs": [],
   "source": [
    "# Adding Dense Layer where unit/neuron are window_size*6 and activation function is relu for non-linearity\n",
    "model3.add(Dense(WINDOW_SIZE*6,activation='relu'))\n",
    "# model3.add(Dropout(0.2))"
   ]
  },
  {
   "cell_type": "code",
   "execution_count": 114,
   "id": "50b7a90f-2051-4197-a23a-595cbdadb61e",
   "metadata": {},
   "outputs": [],
   "source": [
    "# Adding Dense Layer where unit/neuron are window_size*3 and activation function is relu for non-linearity\n",
    "model3.add(Dense(WINDOW_SIZE*3,activation='relu'))\n",
    "# model3.add(Dropout(0.05))"
   ]
  },
  {
   "cell_type": "code",
   "execution_count": 115,
   "id": "e3121ae9-31c7-4fd0-baac-39374789697d",
   "metadata": {},
   "outputs": [],
   "source": [
    "# Adding Dense Layer where unit/neuron are window_size and activation function is relu for non-linearity\n",
    "model3.add(Dense(WINDOW_SIZE,activation='relu'))\n",
    "# model3.add(Dropout(0.2))"
   ]
  },
  {
   "cell_type": "code",
   "execution_count": 116,
   "id": "ecdd9515-ffce-4407-87d1-558907ff012a",
   "metadata": {},
   "outputs": [],
   "source": [
    "# Adding Dense Layer where unit/neuron are 1 which is basically our output layer and activation function is linear because we want our target to be continuous\n",
    "model3.add(Dense(1,activation='linear'))"
   ]
  },
  {
   "cell_type": "code",
   "execution_count": 117,
   "id": "2a52cce0-637b-4a8e-baa8-af14e49408b1",
   "metadata": {},
   "outputs": [
    {
     "name": "stdout",
     "output_type": "stream",
     "text": [
      "Model: \"sequential_3\"\n",
      "_________________________________________________________________\n",
      " Layer (type)                Output Shape              Param #   \n",
      "=================================================================\n",
      " dense_15 (Dense)            (1, 150)                  2400      \n",
      "                                                                 \n",
      " dense_16 (Dense)            (1, 90)                   13590     \n",
      "                                                                 \n",
      " dense_17 (Dense)            (1, 45)                   4095      \n",
      "                                                                 \n",
      " dense_18 (Dense)            (1, 15)                   690       \n",
      "                                                                 \n",
      " dense_19 (Dense)            (1, 1)                    16        \n",
      "                                                                 \n",
      "=================================================================\n",
      "Total params: 20791 (81.21 KB)\n",
      "Trainable params: 20791 (81.21 KB)\n",
      "Non-trainable params: 0 (0.00 Byte)\n",
      "_________________________________________________________________\n"
     ]
    }
   ],
   "source": [
    "model3.summary() # checking the summary of our sequential model like how much param it train on each layer etc"
   ]
  },
  {
   "cell_type": "code",
   "execution_count": 118,
   "id": "ed18ec80-71bd-4a2e-9b7e-01084ab7efa3",
   "metadata": {},
   "outputs": [],
   "source": [
    "# if loss is no longer decreasing considering min_delta and patience\n",
    "patience = tf.keras.callbacks.EarlyStopping(monitor='loss', patience=3)"
   ]
  },
  {
   "cell_type": "code",
   "execution_count": 119,
   "id": "94a0ca5e-7c3a-4c83-866f-f58347f1d80d",
   "metadata": {},
   "outputs": [],
   "source": [
    "cp3 = ModelCheckpoint('models/pressure_forcast_std/model3', save_best_only=True)  # for saving our model to a location for future use. So we don't need to train model again\n",
    "# `save_best_only=True`, it only saves when the model is considered the \"best\""
   ]
  },
  {
   "cell_type": "code",
   "execution_count": 120,
   "id": "805ef0d7-6aba-406e-9c45-e97283a5a0f1",
   "metadata": {},
   "outputs": [],
   "source": [
    "logdir = 'logs/pressure_forcast_std/model3'"
   ]
  },
  {
   "cell_type": "code",
   "execution_count": 121,
   "id": "e03b78aa-4551-4ddb-928e-00b0d5fce8d9",
   "metadata": {},
   "outputs": [],
   "source": [
    "tensorboard_callback3 = tf.keras.callbacks.TensorBoard(log_dir=logdir) # Enable visualizations for TensorBoard.\n",
    "# can read more about this on :- https://www.tensorflow.org/api_docs/python/tf/keras/callbacks/TensorBoard\n",
    "# for launching tensorboad using cli if install tensorflow using pip :- tensorboard --logdir=path_to_your_logs"
   ]
  },
  {
   "cell_type": "code",
   "execution_count": 122,
   "id": "fd5e8b5a-6fd4-41dd-9530-a39756fc8fbb",
   "metadata": {},
   "outputs": [],
   "source": [
    "# Configures the model for training. like we can configure loss,optimizer,metrics\n",
    "model3.compile(loss=MeanSquaredError(), optimizer=Adam(learning_rate = 0.001), metrics=[RootMeanSquaredError()])"
   ]
  },
  {
   "cell_type": "code",
   "execution_count": null,
   "id": "c8c0d54d-53c4-4acd-b19e-df089d8316aa",
   "metadata": {},
   "outputs": [
    {
     "name": "stdout",
     "output_type": "stream",
     "text": [
      "Epoch 1/100\n",
      "1862/1875 [============================>.] - ETA: 0s - loss: 0.0085 - root_mean_squared_error: 0.0921INFO:tensorflow:Assets written to: models/pressure_forcast_std\\model3\\assets\n"
     ]
    },
    {
     "name": "stderr",
     "output_type": "stream",
     "text": [
      "INFO:tensorflow:Assets written to: models/pressure_forcast_std\\model3\\assets\n"
     ]
    },
    {
     "name": "stdout",
     "output_type": "stream",
     "text": [
      "1875/1875 [==============================] - 3s 1ms/step - loss: 0.0085 - root_mean_squared_error: 0.0920 - val_loss: 0.0088 - val_root_mean_squared_error: 0.0938\n",
      "Epoch 2/100\n",
      "1840/1875 [============================>.] - ETA: 0s - loss: 0.0050 - root_mean_squared_error: 0.0708INFO:tensorflow:Assets written to: models/pressure_forcast_std\\model3\\assets\n"
     ]
    },
    {
     "name": "stderr",
     "output_type": "stream",
     "text": [
      "INFO:tensorflow:Assets written to: models/pressure_forcast_std\\model3\\assets\n"
     ]
    },
    {
     "name": "stdout",
     "output_type": "stream",
     "text": [
      "1875/1875 [==============================] - 3s 2ms/step - loss: 0.0050 - root_mean_squared_error: 0.0704 - val_loss: 0.0019 - val_root_mean_squared_error: 0.0438\n",
      "Epoch 3/100\n",
      "1875/1875 [==============================] - 2s 1ms/step - loss: 0.0043 - root_mean_squared_error: 0.0652 - val_loss: 0.0022 - val_root_mean_squared_error: 0.0473\n",
      "Epoch 4/100\n",
      "1835/1875 [============================>.] - ETA: 0s - loss: 0.0038 - root_mean_squared_error: 0.0613INFO:tensorflow:Assets written to: models/pressure_forcast_std\\model3\\assets\n"
     ]
    },
    {
     "name": "stderr",
     "output_type": "stream",
     "text": [
      "INFO:tensorflow:Assets written to: models/pressure_forcast_std\\model3\\assets\n"
     ]
    },
    {
     "name": "stdout",
     "output_type": "stream",
     "text": [
      "1875/1875 [==============================] - 3s 1ms/step - loss: 0.0037 - root_mean_squared_error: 0.0611 - val_loss: 0.0018 - val_root_mean_squared_error: 0.0429\n",
      "Epoch 5/100\n",
      "1834/1875 [============================>.] - ETA: 0s - loss: 0.0037 - root_mean_squared_error: 0.0605INFO:tensorflow:Assets written to: models/pressure_forcast_std\\model3\\assets\n"
     ]
    },
    {
     "name": "stderr",
     "output_type": "stream",
     "text": [
      "INFO:tensorflow:Assets written to: models/pressure_forcast_std\\model3\\assets\n"
     ]
    },
    {
     "name": "stdout",
     "output_type": "stream",
     "text": [
      "1875/1875 [==============================] - 3s 1ms/step - loss: 0.0036 - root_mean_squared_error: 0.0603 - val_loss: 0.0018 - val_root_mean_squared_error: 0.0426\n",
      "Epoch 6/100\n",
      "1866/1875 [============================>.] - ETA: 0s - loss: 0.0032 - root_mean_squared_error: 0.0569INFO:tensorflow:Assets written to: models/pressure_forcast_std\\model3\\assets\n"
     ]
    },
    {
     "name": "stderr",
     "output_type": "stream",
     "text": [
      "INFO:tensorflow:Assets written to: models/pressure_forcast_std\\model3\\assets\n"
     ]
    },
    {
     "name": "stdout",
     "output_type": "stream",
     "text": [
      "1875/1875 [==============================] - 3s 1ms/step - loss: 0.0032 - root_mean_squared_error: 0.0568 - val_loss: 0.0017 - val_root_mean_squared_error: 0.0418\n",
      "Epoch 7/100\n",
      "1834/1875 [============================>.] - ETA: 0s - loss: 0.0032 - root_mean_squared_error: 0.0568INFO:tensorflow:Assets written to: models/pressure_forcast_std\\model3\\assets\n"
     ]
    },
    {
     "name": "stderr",
     "output_type": "stream",
     "text": [
      "INFO:tensorflow:Assets written to: models/pressure_forcast_std\\model3\\assets\n"
     ]
    },
    {
     "name": "stdout",
     "output_type": "stream",
     "text": [
      "1875/1875 [==============================] - 3s 1ms/step - loss: 0.0032 - root_mean_squared_error: 0.0564 - val_loss: 0.0016 - val_root_mean_squared_error: 0.0404\n",
      "Epoch 8/100\n",
      "1875/1875 [==============================] - 2s 1ms/step - loss: 0.0030 - root_mean_squared_error: 0.0551 - val_loss: 0.0020 - val_root_mean_squared_error: 0.0443\n",
      "Epoch 9/100\n",
      "1875/1875 [==============================] - 2s 1ms/step - loss: 0.0030 - root_mean_squared_error: 0.0548 - val_loss: 0.0016 - val_root_mean_squared_error: 0.0406\n",
      "Epoch 10/100\n",
      "1875/1875 [==============================] - 2s 1ms/step - loss: 0.0029 - root_mean_squared_error: 0.0534 - val_loss: 0.0144 - val_root_mean_squared_error: 0.1202\n",
      "Epoch 11/100\n",
      "1875/1875 [==============================] - 2s 1ms/step - loss: 0.0029 - root_mean_squared_error: 0.0543 - val_loss: 0.0090 - val_root_mean_squared_error: 0.0950\n",
      "Epoch 12/100\n",
      "1875/1875 [==============================] - 2s 1ms/step - loss: 0.0030 - root_mean_squared_error: 0.0549 - val_loss: 0.0018 - val_root_mean_squared_error: 0.0424\n",
      "Epoch 13/100\n",
      "1264/1875 [===================>..........] - ETA: 0s - loss: 0.0033 - root_mean_squared_error: 0.0570"
     ]
    }
   ],
   "source": [
    "\"\"\"\n",
    "Trains the model for a fixed number of epochs (dataset iterations).\n",
    "Can configure number of epochs,callbacks,pass validation date,pass batch_size for running in batches.\n",
    "Storing the call in hist so we can use the matrix for future analysis in our case it will store:-\n",
    "['loss', 'root_mean_squared_error', 'val_loss', 'val_root_mean_squared_error']\n",
    "\"\"\"\n",
    "hist3 = model3.fit(X_train3, y_train3, validation_data=(X_val3, y_val3), epochs=100, callbacks=[cp3,tensorboard_callback3,patience])"
   ]
  },
  {
   "cell_type": "code",
   "execution_count": null,
   "id": "323b064d-64cf-4e53-890e-4fd597b4e2ad",
   "metadata": {
    "scrolled": true
   },
   "outputs": [],
   "source": [
    "hist3.history.keys()"
   ]
  },
  {
   "cell_type": "markdown",
   "id": "b0a2a7b0-49bd-4300-b506-276ee617caed",
   "metadata": {},
   "source": [
    "#### Plot Performance"
   ]
  },
  {
   "cell_type": "markdown",
   "id": "e9e94e03-122b-447a-b97b-ddad9a216565",
   "metadata": {},
   "source": [
    "##### MSE LOSS PLOT"
   ]
  },
  {
   "cell_type": "code",
   "execution_count": null,
   "id": "6686e9e2-1430-415e-a328-88c1ea9c0600",
   "metadata": {},
   "outputs": [],
   "source": [
    "# plot for visualizing our model MSE train loss with validation loss\n",
    "fig = plt.figure()\n",
    "plt.plot(hist3.history['loss'], color='teal', label='loss')\n",
    "plt.plot(hist3.history['val_loss'], color='orange', label='val_loss')\n",
    "fig.suptitle('MSE Loss', fontsize=20)\n",
    "plt.legend(loc=\"upper left\")\n",
    "plt.show()"
   ]
  },
  {
   "cell_type": "markdown",
   "id": "219934f7-620c-4349-9032-678ccbf9f1d2",
   "metadata": {},
   "source": [
    "##### RMSE LOSS PLOT"
   ]
  },
  {
   "cell_type": "code",
   "execution_count": null,
   "id": "87ef8060-6788-4446-99d5-8f516d67f098",
   "metadata": {},
   "outputs": [],
   "source": [
    "# plot for visualizing our model MSE train loss with validation loss\n",
    "fig = plt.figure()\n",
    "plt.plot(hist3.history['root_mean_squared_error'], color='teal', label='loss')\n",
    "plt.plot(hist3.history['val_root_mean_squared_error'], color='orange', label='val_loss')\n",
    "fig.suptitle('RMSE Loss', fontsize=20)\n",
    "plt.legend(loc=\"upper left\")\n",
    "plt.show()"
   ]
  },
  {
   "cell_type": "code",
   "execution_count": null,
   "id": "1880d972-9c8a-483a-97f1-03aeb6969765",
   "metadata": {},
   "outputs": [],
   "source": [
    "# loading the model\n",
    "model3 = load_model('models/pressure_forcast_std/model3/')"
   ]
  },
  {
   "cell_type": "code",
   "execution_count": null,
   "id": "fb4cd155-b49c-4e4f-ad89-d7ff25832bba",
   "metadata": {},
   "outputs": [],
   "source": [
    "# predicting train dataset on loaded model\n",
    "train_predictions3 = model3.predict(X_train3).flatten()\n",
    "# storing predicted and actual in a dataframe\n",
    "train_results3 = pd.DataFrame(data={'Train Predictions':train_predictions3, 'Actuals':y_train3})\n",
    "train_results3.head()"
   ]
  },
  {
   "cell_type": "code",
   "execution_count": null,
   "id": "2b01aa6a-68ec-472d-8ff8-c4332904bbcf",
   "metadata": {},
   "outputs": [],
   "source": [
    "# plotting the predicted vs actual for visualizing how good the results are\n",
    "plt.plot(train_results3['Train Predictions'][:100])\n",
    "plt.plot(train_results3['Actuals'][:100])"
   ]
  },
  {
   "cell_type": "code",
   "execution_count": null,
   "id": "f070229b-560b-4a7e-b244-822b4f78e2e1",
   "metadata": {},
   "outputs": [],
   "source": [
    "# predicting validation dataset on loaded model\n",
    "val_predictions3 = model3.predict(X_val3).flatten()\n",
    "# storing predicted and actual in a dataframe\n",
    "val_results3 = pd.DataFrame(data={'Val Predictions':val_predictions3, 'Actuals':y_val3})\n",
    "val_results3.head()"
   ]
  },
  {
   "cell_type": "code",
   "execution_count": null,
   "id": "adb2481b-b3f2-4acf-ab80-b107be88527d",
   "metadata": {},
   "outputs": [],
   "source": [
    "# plotting the predicted vs actual for visualizing how good the results are\n",
    "plt.plot(val_results3['Val Predictions'][:100])\n",
    "plt.plot(val_results3['Actuals'][:100])"
   ]
  },
  {
   "cell_type": "code",
   "execution_count": null,
   "id": "e091139f-0d21-44b4-af36-59d564626d64",
   "metadata": {},
   "outputs": [],
   "source": [
    "# predicting validation dataset on loaded model\n",
    "test_predictions3 = model3.predict(X_test3).flatten()\n",
    "# storing predicted and actual in a dataframe\n",
    "test_results3 = pd.DataFrame(data={'Test Predictions':test_predictions3, 'Actuals':y_test3})\n",
    "test_results3.head()"
   ]
  },
  {
   "cell_type": "code",
   "execution_count": null,
   "id": "be0672a5-2cb1-41d9-ad3d-aa6206d757df",
   "metadata": {},
   "outputs": [],
   "source": [
    "# plotting the predicted vs actual for visualizing how good the results are\n",
    "plt.plot(test_results3['Test Predictions'][:100])\n",
    "plt.plot(test_results3['Actuals'][:100])"
   ]
  },
  {
   "cell_type": "code",
   "execution_count": null,
   "id": "e57866cf-4d2f-4cec-8c64-65580a4213ee",
   "metadata": {},
   "outputs": [],
   "source": []
  },
  {
   "cell_type": "code",
   "execution_count": null,
   "id": "9f7c3767-6cdd-4af0-95eb-37b203a8d1a0",
   "metadata": {},
   "outputs": [],
   "source": []
  },
  {
   "cell_type": "markdown",
   "id": "43a8be29-994a-41e6-a338-a86cb282d274",
   "metadata": {},
   "source": [
    "### WINDOW SIZE = 20"
   ]
  },
  {
   "cell_type": "code",
   "execution_count": null,
   "id": "177626e5-4cb8-42d1-8950-bee369e95e7b",
   "metadata": {},
   "outputs": [],
   "source": [
    "WINDOW_SIZE = 20\n",
    "X4, y4 = df_to_X_y(pressure, WINDOW_SIZE)\n",
    "X4.shape, y4.shape"
   ]
  },
  {
   "cell_type": "markdown",
   "id": "cf9c7d2b-250c-453b-be2f-8847ff4da672",
   "metadata": {},
   "source": [
    "##### Splitting our dataset into Train,Test and Validation split"
   ]
  },
  {
   "cell_type": "code",
   "execution_count": null,
   "id": "fd0561a3-3fda-4a60-8b27-e715f85ecfaf",
   "metadata": {},
   "outputs": [],
   "source": [
    "X_train4, y_train4 = X4[:60000], y4[:60000]\n",
    "X_val4, y_val4 = X4[60000:65000], y4[60000:65000]\n",
    "X_test4, y_test4 = X4[65000:], y4[65000:]\n",
    "X_train4.shape, y_train4.shape, X_val4.shape, y_val4.shape, X_test4.shape, y_test4.shape"
   ]
  },
  {
   "cell_type": "code",
   "execution_count": null,
   "id": "4d02d1cc-faeb-4668-957b-e650a5ee4a84",
   "metadata": {
    "scrolled": true
   },
   "outputs": [],
   "source": [
    "X_train4"
   ]
  },
  {
   "cell_type": "markdown",
   "id": "26b81f94-ad38-4a2a-a8a7-740ca4849702",
   "metadata": {},
   "source": [
    "##### Creating our Deep neural network model"
   ]
  },
  {
   "cell_type": "code",
   "execution_count": null,
   "id": "e7c12355-9d44-4694-ad1e-9351d3373ea7",
   "metadata": {},
   "outputs": [],
   "source": [
    "tf.random.set_seed(42)"
   ]
  },
  {
   "cell_type": "code",
   "execution_count": null,
   "id": "4397c018-1dcf-47ae-8952-14a9fdfd242d",
   "metadata": {},
   "outputs": [],
   "source": [
    "model4 = Sequential() # we will be using tenserflow sequential API for modelling"
   ]
  },
  {
   "cell_type": "code",
   "execution_count": null,
   "id": "4ec108b1-b57a-4805-a4c7-80152ea2ad5a",
   "metadata": {},
   "outputs": [],
   "source": [
    "model4.add(tf.keras.Input(WINDOW_SIZE,1))  # Adding InputLayer for defining input size of our data."
   ]
  },
  {
   "cell_type": "code",
   "execution_count": null,
   "id": "8d658bc0-1795-4582-afe6-ca9784ba7c39",
   "metadata": {},
   "outputs": [],
   "source": [
    "# Adding Dense Layer where unit/neuron are window_size*10 and activation function is relu for non-linearity\n",
    "model4.add(Dense(WINDOW_SIZE*10,activation='relu')) \n",
    "# model4.add(Dropout(0.2))"
   ]
  },
  {
   "cell_type": "code",
   "execution_count": null,
   "id": "4742e75a-93e8-4901-a772-baf33633a592",
   "metadata": {},
   "outputs": [],
   "source": [
    "# Adding Dense Layer where unit/neuron are window_size*6 and activation function is relu for non-linearity\n",
    "model4.add(Dense(WINDOW_SIZE*6,activation='relu'))\n",
    "# model4.add(Dropout(0.2))"
   ]
  },
  {
   "cell_type": "code",
   "execution_count": null,
   "id": "b45004f6-12d7-4f30-9e46-a6ca164b3bac",
   "metadata": {},
   "outputs": [],
   "source": [
    "# Adding Dense Layer where unit/neuron are window_size*3 and activation function is relu for non-linearity\n",
    "model4.add(Dense(WINDOW_SIZE*3,activation='relu'))\n",
    "# model4.add(Dropout(0.05))"
   ]
  },
  {
   "cell_type": "code",
   "execution_count": null,
   "id": "a414a2be-8054-4e15-bf14-f3334d660510",
   "metadata": {},
   "outputs": [],
   "source": [
    "# Adding Dense Layer where unit/neuron are window_size and activation function is relu for non-linearity\n",
    "model4.add(Dense(WINDOW_SIZE,activation='relu'))\n",
    "# model4.add(Dropout(0.2))"
   ]
  },
  {
   "cell_type": "code",
   "execution_count": null,
   "id": "09ca8634-a803-4895-b385-76c63c00cba2",
   "metadata": {},
   "outputs": [],
   "source": [
    "# Adding Dense Layer where unit/neuron are 1 which is basically our output layer and activation function is linear because we want our target to be continuous\n",
    "model4.add(Dense(1,activation='linear'))"
   ]
  },
  {
   "cell_type": "code",
   "execution_count": null,
   "id": "a4485cee-3ec2-4ea0-a442-98d70d1e0984",
   "metadata": {},
   "outputs": [],
   "source": [
    "model4.summary() # checking the summary of our sequential model like how much param it train on each layer etc"
   ]
  },
  {
   "cell_type": "code",
   "execution_count": null,
   "id": "79e9b67e-4608-4b3b-ac22-f33be8647b2f",
   "metadata": {},
   "outputs": [],
   "source": [
    "# if loss is no longer decreasing considering min_delta and patience\n",
    "patience = tf.keras.callbacks.EarlyStopping(monitor='loss', patience=3)"
   ]
  },
  {
   "cell_type": "code",
   "execution_count": null,
   "id": "dafb5f1b-7148-4250-b7fa-f4820f2f2bc8",
   "metadata": {},
   "outputs": [],
   "source": [
    "cp4 = ModelCheckpoint('models/pressure_forcast_std/model4', save_best_only=True)  # for saving our model to a location for future use. So we don't need to train model again\n",
    "# `save_best_only=True`, it only saves when the model is considered the \"best\""
   ]
  },
  {
   "cell_type": "code",
   "execution_count": null,
   "id": "2ea80191-9ce2-4ed4-86f9-49b95ae5cd5f",
   "metadata": {},
   "outputs": [],
   "source": [
    "logdir = 'logs/pressure_forcast_std/model4'"
   ]
  },
  {
   "cell_type": "code",
   "execution_count": null,
   "id": "819fb115-5c49-44b5-9741-376330be3eb4",
   "metadata": {},
   "outputs": [],
   "source": [
    "tensorboard_callback4 = tf.keras.callbacks.TensorBoard(log_dir=logdir) # Enable visualizations for TensorBoard.\n",
    "# can read more about this on :- https://www.tensorflow.org/api_docs/python/tf/keras/callbacks/TensorBoard\n",
    "# for launching tensorboad using cli if install tensorflow using pip :- tensorboard --logdir=path_to_your_logs"
   ]
  },
  {
   "cell_type": "code",
   "execution_count": null,
   "id": "882750c1-2ea8-4d7d-ba40-45eae1f38593",
   "metadata": {},
   "outputs": [],
   "source": [
    "# Configures the model for training. like we can configure loss,optimizer,metrics\n",
    "model4.compile(loss=MeanSquaredError(), optimizer=Adam(learning_rate = 0.001), metrics=[RootMeanSquaredError()])"
   ]
  },
  {
   "cell_type": "code",
   "execution_count": null,
   "id": "1e1387e6-1032-4b14-ab40-46a52027e104",
   "metadata": {},
   "outputs": [],
   "source": [
    "\"\"\"\n",
    "Trains the model for a fixed number of epochs (dataset iterations).\n",
    "Can configure number of epochs,callbacks,pass validation date,pass batch_size for running in batches.\n",
    "Storing the call in hist so we can use the matrix for future analysis in our case it will store:-\n",
    "['loss', 'root_mean_squared_error', 'val_loss', 'val_root_mean_squared_error']\n",
    "\"\"\"\n",
    "hist4 = model4.fit(X_train4, y_train4, validation_data=(X_val4, y_val4), epochs=100, callbacks=[cp4,tensorboard_callback4,patience])"
   ]
  },
  {
   "cell_type": "code",
   "execution_count": null,
   "id": "9ebdb8b9-12ba-40ad-aa71-221b9a616a54",
   "metadata": {
    "scrolled": true
   },
   "outputs": [],
   "source": [
    "hist4.history.keys()"
   ]
  },
  {
   "cell_type": "markdown",
   "id": "1b31326b-c477-41fd-ab08-558f13497aa0",
   "metadata": {},
   "source": [
    "#### Plot Performance"
   ]
  },
  {
   "cell_type": "markdown",
   "id": "03c86a05-2941-4d08-ba22-8f5ff88c0214",
   "metadata": {},
   "source": [
    "##### MSE LOSS PLOT"
   ]
  },
  {
   "cell_type": "code",
   "execution_count": null,
   "id": "47ff856c-631e-41f5-bf59-3f035efbad1d",
   "metadata": {},
   "outputs": [],
   "source": [
    "# plot for visualizing our model MSE train loss with validation loss\n",
    "fig = plt.figure()\n",
    "plt.plot(hist4.history['loss'], color='teal', label='loss')\n",
    "plt.plot(hist4.history['val_loss'], color='orange', label='val_loss')\n",
    "fig.suptitle('MSE Loss', fontsize=20)\n",
    "plt.legend(loc=\"upper left\")\n",
    "plt.show()"
   ]
  },
  {
   "cell_type": "markdown",
   "id": "573a555a-8043-40c9-bd54-3ccff942562c",
   "metadata": {},
   "source": [
    "##### RMSE LOSS PLOT"
   ]
  },
  {
   "cell_type": "code",
   "execution_count": null,
   "id": "4d6c05b1-c811-4437-b178-b31c6149149f",
   "metadata": {},
   "outputs": [],
   "source": [
    "# plot for visualizing our model MSE train loss with validation loss\n",
    "fig = plt.figure()\n",
    "plt.plot(hist4.history['root_mean_squared_error'], color='teal', label='loss')\n",
    "plt.plot(hist4.history['val_root_mean_squared_error'], color='orange', label='val_loss')\n",
    "fig.suptitle('RMSE Loss', fontsize=20)\n",
    "plt.legend(loc=\"upper left\")\n",
    "plt.show()"
   ]
  },
  {
   "cell_type": "code",
   "execution_count": null,
   "id": "68912110-0df9-4395-a2d1-ca30e023af25",
   "metadata": {},
   "outputs": [],
   "source": [
    "# loading the model\n",
    "model4 = load_model('models/pressure_forcast_std/model4/')"
   ]
  },
  {
   "cell_type": "code",
   "execution_count": null,
   "id": "bc46459f-7777-48fa-9031-6c6aaa2a9a97",
   "metadata": {},
   "outputs": [],
   "source": [
    "# predicting train dataset on loaded model\n",
    "train_predictions4 = model4.predict(X_train4).flatten()\n",
    "# storing predicted and actual in a dataframe\n",
    "train_results4 = pd.DataFrame(data={'Train Predictions':train_predictions4, 'Actuals':y_train4})\n",
    "train_results4.head()"
   ]
  },
  {
   "cell_type": "code",
   "execution_count": null,
   "id": "7675bb09-5797-44da-a18c-ae7a8217863b",
   "metadata": {},
   "outputs": [],
   "source": [
    "# plotting the predicted vs actual for visualizing how good the results are\n",
    "plt.plot(train_results4['Train Predictions'][:100])\n",
    "plt.plot(train_results4['Actuals'][:100])"
   ]
  },
  {
   "cell_type": "code",
   "execution_count": null,
   "id": "27a4c82b-e550-44ec-93d0-a9d40254e1ea",
   "metadata": {},
   "outputs": [],
   "source": [
    "# predicting validation dataset on loaded model\n",
    "val_predictions4 = model4.predict(X_val4).flatten()\n",
    "# storing predicted and actual in a dataframe\n",
    "val_results4 = pd.DataFrame(data={'Val Predictions':val_predictions4, 'Actuals':y_val4})\n",
    "val_results4.head()"
   ]
  },
  {
   "cell_type": "code",
   "execution_count": null,
   "id": "2b70d732-481a-4cd0-b26f-7d333bdf48e6",
   "metadata": {},
   "outputs": [],
   "source": [
    "# plotting the predicted vs actual for visualizing how good the results are\n",
    "plt.plot(val_results4['Val Predictions'][:100])\n",
    "plt.plot(val_results4['Actuals'][:100])"
   ]
  },
  {
   "cell_type": "code",
   "execution_count": null,
   "id": "dbaa48d5-346e-41d1-b5c6-cfe5a9c0d4ed",
   "metadata": {},
   "outputs": [],
   "source": [
    "# predicting validation dataset on loaded model\n",
    "test_predictions4 = model4.predict(X_test4).flatten()\n",
    "# storing predicted and actual in a dataframe\n",
    "test_results4 = pd.DataFrame(data={'Test Predictions':test_predictions4, 'Actuals':y_test4})\n",
    "test_results4.head()"
   ]
  },
  {
   "cell_type": "code",
   "execution_count": null,
   "id": "e8a507e1-0043-417c-9a0b-ae776ecb99eb",
   "metadata": {},
   "outputs": [],
   "source": [
    "# plotting the predicted vs actual for visualizing how good the results are\n",
    "plt.plot(test_results4['Test Predictions'][:100])\n",
    "plt.plot(test_results4['Actuals'][:100])"
   ]
  },
  {
   "cell_type": "code",
   "execution_count": null,
   "id": "abe78af5-1c70-4883-9c08-0b4a4dc39761",
   "metadata": {},
   "outputs": [],
   "source": []
  },
  {
   "cell_type": "code",
   "execution_count": null,
   "id": "a2fba690-d4b7-4158-936a-ce85d68f607a",
   "metadata": {},
   "outputs": [],
   "source": []
  }
 ],
 "metadata": {
  "kernelspec": {
   "display_name": "Python 3 (ipykernel)",
   "language": "python",
   "name": "python3"
  },
  "language_info": {
   "codemirror_mode": {
    "name": "ipython",
    "version": 3
   },
   "file_extension": ".py",
   "mimetype": "text/x-python",
   "name": "python",
   "nbconvert_exporter": "python",
   "pygments_lexer": "ipython3",
   "version": "3.11.4"
  }
 },
 "nbformat": 4,
 "nbformat_minor": 5
}
